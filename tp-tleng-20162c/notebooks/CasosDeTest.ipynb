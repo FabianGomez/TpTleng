{
 "cells": [
  {
   "cell_type": "code",
   "execution_count": 1,
   "metadata": {
    "collapsed": false
   },
   "outputs": [],
   "source": [
    "%load_ext autoreload\n",
    "%autoreload 2\n",
    "\n",
    "import sys\n",
    "sys.path.append(\"..\")\n",
    "\n",
    "from dibu import parser\n",
    "from dibu import lexer\n",
    "\n",
    "from IPython.display import SVG, display\n"
   ]
  },
  {
   "cell_type": "code",
   "execution_count": 2,
   "metadata": {
    "collapsed": false
   },
   "outputs": [
    {
     "data": {
      "text/plain": [
       "[LexToken(FUNC,'size',1,0),\n",
       " LexToken(ARG,'height',1,5),\n",
       " LexToken(EQUAL,'=',1,11),\n",
       " LexToken(NUMBER,{'value': 200, 'type': 'number'},1,12),\n",
       " LexToken(COMMA,',',1,15),\n",
       " LexToken(ARG,'width',1,17),\n",
       " LexToken(EQUAL,'=',1,22),\n",
       " LexToken(NUMBER,{'value': 200, 'type': 'number'},1,23),\n",
       " LexToken(FUNC,'line',1,27),\n",
       " LexToken(ARG,'from',1,32),\n",
       " LexToken(EQUAL,'=',1,36),\n",
       " LexToken(LPAREN,'(',1,37),\n",
       " LexToken(NUMBER,{'value': 100, 'type': 'number'},1,38),\n",
       " LexToken(COMMA,',',1,41),\n",
       " LexToken(NUMBER,{'value': 50, 'type': 'number'},1,42),\n",
       " LexToken(RPAREN,')',1,44),\n",
       " LexToken(COMMA,',',1,45),\n",
       " LexToken(ARG,'to',1,47),\n",
       " LexToken(EQUAL,'=',1,49),\n",
       " LexToken(LPAREN,'(',1,50),\n",
       " LexToken(NUMBER,{'value': 100, 'type': 'number'},1,51),\n",
       " LexToken(COMMA,',',1,54),\n",
       " LexToken(NUMBER,{'value': 150, 'type': 'number'},1,55),\n",
       " LexToken(RPAREN,')',1,58)]"
      ]
     },
     "execution_count": 2,
     "metadata": {},
     "output_type": "execute_result"
    }
   ],
   "source": [
    "\n",
    "lexer.apply(\"\"\"size height=200, width=200 line from=(100,50), to=(100,150) \"\"\")"
   ]
  },
  {
   "cell_type": "code",
   "execution_count": 3,
   "metadata": {
    "collapsed": false
   },
   "outputs": [
    {
     "data": {
      "text/plain": [
       "[LexToken(FUNC,'rectangle',1,0),\n",
       " LexToken(ARG,'upper_left',1,10),\n",
       " LexToken(EQUAL,'=',1,20),\n",
       " LexToken(LPAREN,'(',1,21),\n",
       " LexToken(NUMBER,{'value': 0, 'type': 'number'},1,22),\n",
       " LexToken(COMMA,',',1,23),\n",
       " LexToken(NUMBER,{'value': 0, 'type': 'number'},1,24),\n",
       " LexToken(RPAREN,')',1,25),\n",
       " LexToken(COMMA,',',1,26),\n",
       " LexToken(FUNC,'size',1,28),\n",
       " LexToken(EQUAL,'=',1,32),\n",
       " LexToken(LPAREN,'(',1,33),\n",
       " LexToken(NUMBER,{'value': 50, 'type': 'number'},1,34),\n",
       " LexToken(COMMA,',',1,36),\n",
       " LexToken(NUMBER,{'value': 50, 'type': 'number'},1,37),\n",
       " LexToken(RPAREN,')',1,39)]"
      ]
     },
     "execution_count": 3,
     "metadata": {},
     "output_type": "execute_result"
    }
   ],
   "source": [
    "lexer.apply(\"rectangle upper_left=(0,0), size=(50,50)\")"
   ]
  },
  {
   "cell_type": "code",
   "execution_count": 4,
   "metadata": {
    "collapsed": false
   },
   "outputs": [
    {
     "data": {
      "text/plain": [
       "[LexToken(FUNC,'size',1,0),\n",
       " LexToken(ARG,'height',1,5),\n",
       " LexToken(EQUAL,'=',1,11),\n",
       " LexToken(NUMBER,{'value': 200, 'type': 'number'},1,12),\n",
       " LexToken(COMMA,',',1,15),\n",
       " LexToken(ARG,'width',1,17),\n",
       " LexToken(EQUAL,'=',1,22),\n",
       " LexToken(NUMBER,{'value': 200, 'type': 'number'},1,23)]"
      ]
     },
     "execution_count": 4,
     "metadata": {},
     "output_type": "execute_result"
    }
   ],
   "source": [
    "lexer.apply(\"size height=200, width=200\")"
   ]
  },
  {
   "cell_type": "code",
   "execution_count": 5,
   "metadata": {
    "collapsed": false
   },
   "outputs": [
    {
     "data": {
      "text/plain": [
       "[LexToken(FUNC,'size',2,18),\n",
       " LexToken(ARG,'height',2,23),\n",
       " LexToken(EQUAL,'=',2,29),\n",
       " LexToken(NUMBER,{'value': 200, 'type': 'number'},2,30),\n",
       " LexToken(COMMA,',',2,33),\n",
       " LexToken(ARG,'width',2,35),\n",
       " LexToken(EQUAL,'=',2,40),\n",
       " LexToken(NUMBER,{'value': 200, 'type': 'number'},2,41),\n",
       " LexToken(FUNC,'rectangle',3,61),\n",
       " LexToken(ARG,'upper_left',3,71),\n",
       " LexToken(EQUAL,'=',3,81),\n",
       " LexToken(LPAREN,'(',3,82),\n",
       " LexToken(NUMBER,{'value': 0, 'type': 'number'},3,83),\n",
       " LexToken(COMMA,',',3,84),\n",
       " LexToken(NUMBER,{'value': 0, 'type': 'number'},3,85),\n",
       " LexToken(RPAREN,')',3,86),\n",
       " LexToken(COMMA,',',3,87),\n",
       " LexToken(FUNC,'size',3,89),\n",
       " LexToken(EQUAL,'=',3,93),\n",
       " LexToken(LPAREN,'(',3,94),\n",
       " LexToken(NUMBER,{'value': 50, 'type': 'number'},3,95),\n",
       " LexToken(COMMA,',',3,97),\n",
       " LexToken(NUMBER,{'value': 50, 'type': 'number'},3,98),\n",
       " LexToken(RPAREN,')',3,100)]"
      ]
     },
     "execution_count": 5,
     "metadata": {},
     "output_type": "execute_result"
    }
   ],
   "source": [
    "lexer.apply(\"\"\" \n",
    "                size height=200, width=200\n",
    "                rectangle upper_left=(0,0), size=(50,50)\n",
    "            \"\"\")"
   ]
  },
  {
   "cell_type": "code",
   "execution_count": 6,
   "metadata": {
    "collapsed": false
   },
   "outputs": [
    {
     "data": {
      "text/plain": [
       "[LexToken(FUNC,'size',5,1),\n",
       " LexToken(ARG,'height',5,6),\n",
       " LexToken(EQUAL,'=',5,12),\n",
       " LexToken(NUMBER,{'value': 200, 'type': 'number'},5,13),\n",
       " LexToken(COMMA,',',5,16),\n",
       " LexToken(ARG,'width',5,18),\n",
       " LexToken(EQUAL,'=',5,23),\n",
       " LexToken(NUMBER,{'value': 200, 'type': 'number'},5,24),\n",
       " LexToken(FUNC,'ellipse',6,28),\n",
       " LexToken(ARG,'center',6,36),\n",
       " LexToken(EQUAL,'=',6,42),\n",
       " LexToken(LPAREN,'(',6,43),\n",
       " LexToken(NUMBER,{'value': 100, 'type': 'number'},6,44),\n",
       " LexToken(COMMA,',',6,47),\n",
       " LexToken(NUMBER,{'value': 100, 'type': 'number'},6,48),\n",
       " LexToken(RPAREN,')',6,51),\n",
       " LexToken(COMMA,',',6,52),\n",
       " LexToken(ARG,'rx',6,54),\n",
       " LexToken(EQUAL,'=',6,56),\n",
       " LexToken(NUMBER,{'value': 50, 'type': 'number'},6,57),\n",
       " LexToken(COMMA,',',6,59),\n",
       " LexToken(ARG,'ry',6,61),\n",
       " LexToken(EQUAL,'=',6,63),\n",
       " LexToken(NUMBER,{'value': 50, 'type': 'number'},6,64)]"
      ]
     },
     "execution_count": 6,
     "metadata": {},
     "output_type": "execute_result"
    }
   ],
   "source": [
    "lexer.apply(\"\"\"\n",
    "size height=200, width=200\n",
    "ellipse center=(100,100), rx=50, ry=50\n",
    "\"\"\")"
   ]
  },
  {
   "cell_type": "code",
   "execution_count": 7,
   "metadata": {
    "collapsed": false
   },
   "outputs": [
    {
     "data": {
      "text/plain": [
       "[LexToken(FUNC,'size',8,1),\n",
       " LexToken(ARG,'height',8,6),\n",
       " LexToken(EQUAL,'=',8,12),\n",
       " LexToken(NUMBER,{'value': 200, 'type': 'number'},8,13),\n",
       " LexToken(COMMA,',',8,16),\n",
       " LexToken(ARG,'width',8,18),\n",
       " LexToken(EQUAL,'=',8,23),\n",
       " LexToken(NUMBER,{'value': 200, 'type': 'number'},8,24),\n",
       " LexToken(FUNC,'circle',9,28),\n",
       " LexToken(ARG,'center',9,35),\n",
       " LexToken(EQUAL,'=',9,41),\n",
       " LexToken(LPAREN,'(',9,42),\n",
       " LexToken(NUMBER,{'value': 100, 'type': 'number'},9,43),\n",
       " LexToken(COMMA,',',9,46),\n",
       " LexToken(NUMBER,{'value': 100, 'type': 'number'},9,47),\n",
       " LexToken(RPAREN,')',9,50),\n",
       " LexToken(COMMA,',',9,51),\n",
       " LexToken(ARG,'radius',9,53),\n",
       " LexToken(EQUAL,'=',9,59),\n",
       " LexToken(NUMBER,{'value': 50, 'type': 'number'},9,60)]"
      ]
     },
     "execution_count": 7,
     "metadata": {},
     "output_type": "execute_result"
    }
   ],
   "source": [
    "lexer.apply(\"\"\"\n",
    "size height=200, width=200\n",
    "circle center=(100,100), radius=50\n",
    "\"\"\")"
   ]
  },
  {
   "cell_type": "code",
   "execution_count": 8,
   "metadata": {
    "collapsed": false
   },
   "outputs": [
    {
     "data": {
      "text/plain": [
       "[LexToken(FUNC,'size',11,1),\n",
       " LexToken(ARG,'height',11,6),\n",
       " LexToken(EQUAL,'=',11,12),\n",
       " LexToken(NUMBER,{'value': 200, 'type': 'number'},11,13),\n",
       " LexToken(COMMA,',',11,16),\n",
       " LexToken(ARG,'width',11,18),\n",
       " LexToken(EQUAL,'=',11,23),\n",
       " LexToken(NUMBER,{'value': 200, 'type': 'number'},11,24),\n",
       " LexToken(FUNC,'polyline',12,28),\n",
       " LexToken(ARG,'points',12,37),\n",
       " LexToken(EQUAL,'=',12,43),\n",
       " LexToken(LBRACKET,'[',12,44),\n",
       " LexToken(LPAREN,'(',12,45),\n",
       " LexToken(NUMBER,{'value': 100, 'type': 'number'},12,46),\n",
       " LexToken(COMMA,',',12,49),\n",
       " LexToken(NUMBER,{'value': 100, 'type': 'number'},12,50),\n",
       " LexToken(RPAREN,')',12,53),\n",
       " LexToken(COMMA,',',12,54),\n",
       " LexToken(LPAREN,'(',12,55),\n",
       " LexToken(NUMBER,{'value': 150, 'type': 'number'},12,56),\n",
       " LexToken(COMMA,',',12,59),\n",
       " LexToken(NUMBER,{'value': 150, 'type': 'number'},12,60),\n",
       " LexToken(RPAREN,')',12,63),\n",
       " LexToken(COMMA,',',12,64),\n",
       " LexToken(LPAREN,'(',12,65),\n",
       " LexToken(NUMBER,{'value': 150, 'type': 'number'},12,66),\n",
       " LexToken(COMMA,',',12,69),\n",
       " LexToken(NUMBER,{'value': 50, 'type': 'number'},12,70),\n",
       " LexToken(RPAREN,')',12,72),\n",
       " LexToken(RBRACKET,']',12,73)]"
      ]
     },
     "execution_count": 8,
     "metadata": {},
     "output_type": "execute_result"
    }
   ],
   "source": [
    "lexer.apply(\"\"\"\n",
    "size height=200, width=200\n",
    "polyline points=[(100,100),(150,150),(150,50)]\n",
    "\"\"\")"
   ]
  },
  {
   "cell_type": "code",
   "execution_count": 9,
   "metadata": {
    "collapsed": false
   },
   "outputs": [
    {
     "data": {
      "text/plain": [
       "[LexToken(FUNC,'size',14,1),\n",
       " LexToken(ARG,'height',14,6),\n",
       " LexToken(EQUAL,'=',14,12),\n",
       " LexToken(NUMBER,{'value': 200, 'type': 'number'},14,13),\n",
       " LexToken(COMMA,',',14,16),\n",
       " LexToken(ARG,'width',14,18),\n",
       " LexToken(EQUAL,'=',14,23),\n",
       " LexToken(NUMBER,{'value': 200, 'type': 'number'},14,24),\n",
       " LexToken(FUNC,'polygon',15,28),\n",
       " LexToken(ARG,'points',15,36),\n",
       " LexToken(EQUAL,'=',15,42),\n",
       " LexToken(LBRACKET,'[',15,43),\n",
       " LexToken(LPAREN,'(',15,44),\n",
       " LexToken(NUMBER,{'value': 100, 'type': 'number'},15,45),\n",
       " LexToken(COMMA,',',15,48),\n",
       " LexToken(NUMBER,{'value': 100, 'type': 'number'},15,49),\n",
       " LexToken(RPAREN,')',15,52),\n",
       " LexToken(COMMA,',',15,53),\n",
       " LexToken(LPAREN,'(',15,54),\n",
       " LexToken(NUMBER,{'value': 150, 'type': 'number'},15,55),\n",
       " LexToken(COMMA,',',15,58),\n",
       " LexToken(NUMBER,{'value': 150, 'type': 'number'},15,59),\n",
       " LexToken(RPAREN,')',15,62),\n",
       " LexToken(COMMA,',',15,63),\n",
       " LexToken(LPAREN,'(',15,64),\n",
       " LexToken(NUMBER,{'value': 150, 'type': 'number'},15,65),\n",
       " LexToken(COMMA,',',15,68),\n",
       " LexToken(NUMBER,{'value': 50, 'type': 'number'},15,69),\n",
       " LexToken(RPAREN,')',15,71),\n",
       " LexToken(RBRACKET,']',15,72)]"
      ]
     },
     "execution_count": 9,
     "metadata": {},
     "output_type": "execute_result"
    }
   ],
   "source": [
    "lexer.apply(\"\"\"\n",
    "size height=200, width=200\n",
    "polygon points=[(100,100),(150,150),(150,50)]\n",
    "\"\"\")"
   ]
  },
  {
   "cell_type": "code",
   "execution_count": 10,
   "metadata": {
    "collapsed": false
   },
   "outputs": [
    {
     "name": "stdout",
     "output_type": "stream",
     "text": [
      "{'value': 200, 'type': 'number'}\n",
      "{'value': 200, 'type': 'number'}\n",
      "(1, 1)\n",
      "(100, 150)\n",
      "{'value': 'green', 'type': 'string'}\n",
      "{'value': 'red', 'type': 'string'}\n",
      "{'value': 5, 'type': 'number'}\n",
      "buildSVG: [Size: width=200 height=200 optionals={}, Line: from=(1, 1) to=(100, 150) optional={'fill': 'red', 'stroke-width': 5, 'stroke': 'green'}]\n"
     ]
    },
    {
     "data": {
      "image/svg+xml": [
       "<svg baseProfile=\"full\" height=\"200\" version=\"1.1\" width=\"200\" xmlns=\"http://www.w3.org/2000/svg\" xmlns:ev=\"http://www.w3.org/2001/xml-events\" xmlns:xlink=\"http://www.w3.org/1999/xlink\"><defs/><line style=\"fill: red; stroke: green; stroke-width: 5;\" x1=\"1\" x2=\"100\" y1=\"1\" y2=\"150\"/></svg>"
      ],
      "text/plain": [
       "<IPython.core.display.SVG object>"
      ]
     },
     "execution_count": 10,
     "metadata": {},
     "output_type": "execute_result"
    }
   ],
   "source": [
    "entrada = \"\"\" size height=200, width=200 line from=(1,1), to=(100,150), stroke=\"green\", fill=\"red\", stroke-width=5 \"\"\"\n",
    "lexer.apply(entrada)\n",
    "r = parser.parse(entrada)\n",
    "SVG(r)"
   ]
  },
  {
   "cell_type": "code",
   "execution_count": 11,
   "metadata": {
    "collapsed": false
   },
   "outputs": [
    {
     "name": "stdout",
     "output_type": "stream",
     "text": [
      "{'value': 200, 'type': 'number'}\n",
      "{'value': 200, 'type': 'number'}\n",
      "(100, 100)\n",
      "{'value': 25, 'type': 'number'}\n",
      "{'value': 50, 'type': 'number'}\n",
      "buildSVG: [Size: width=200 height=200 optionals={}, Ellipse: center=(100, 100) rx=25 ry=50 optional={}]\n"
     ]
    },
    {
     "data": {
      "image/svg+xml": [
       "<svg baseProfile=\"full\" height=\"200\" version=\"1.1\" width=\"200\" xmlns=\"http://www.w3.org/2000/svg\" xmlns:ev=\"http://www.w3.org/2001/xml-events\" xmlns:xlink=\"http://www.w3.org/1999/xlink\"><defs/><ellipse cx=\"100\" cy=\"100\" rx=\"25\" ry=\"50\"/></svg>"
      ],
      "text/plain": [
       "<IPython.core.display.SVG object>"
      ]
     },
     "execution_count": 11,
     "metadata": {},
     "output_type": "execute_result"
    }
   ],
   "source": [
    "r = parser.parse(\"\"\"\n",
    "size height=200, width=200\n",
    "ellipse center=(100,100), rx=25, ry=50\n",
    "\"\"\")\n",
    "SVG(r)"
   ]
  },
  {
   "cell_type": "code",
   "execution_count": 12,
   "metadata": {
    "collapsed": false
   },
   "outputs": [
    {
     "name": "stdout",
     "output_type": "stream",
     "text": [
      "{'value': 200, 'type': 'number'}\n",
      "{'value': 200, 'type': 'number'}\n",
      "(100, 100)\n",
      "{'value': 50, 'type': 'number'}\n",
      "buildSVG: [Size: width=200 height=200 optionals={}, Circle: center=(100, 100) radius=50 optional={}]\n"
     ]
    },
    {
     "data": {
      "image/svg+xml": [
       "<svg baseProfile=\"full\" height=\"200\" version=\"1.1\" width=\"200\" xmlns=\"http://www.w3.org/2000/svg\" xmlns:ev=\"http://www.w3.org/2001/xml-events\" xmlns:xlink=\"http://www.w3.org/1999/xlink\"><defs/><circle cx=\"100\" cy=\"100\" r=\"50\"/></svg>"
      ],
      "text/plain": [
       "<IPython.core.display.SVG object>"
      ]
     },
     "execution_count": 12,
     "metadata": {},
     "output_type": "execute_result"
    }
   ],
   "source": [
    "i = \"size height=200, width=200 \\n\"\n",
    "i += \"circle center=(100,100), radius=50\"\n",
    "r = parser.parse(i)\n",
    "SVG(r)"
   ]
  },
  {
   "cell_type": "code",
   "execution_count": 13,
   "metadata": {
    "collapsed": false
   },
   "outputs": [
    {
     "name": "stdout",
     "output_type": "stream",
     "text": [
      "{'value': 200, 'type': 'number'}\n",
      "{'value': 200, 'type': 'number'}\n",
      "[(100, 100), (150, 150), (80, 10)]\n",
      "{'value': 'black', 'type': 'string'}\n",
      "{'value': 'white', 'type': 'string'}\n",
      "buildSVG: [Size: width=200 height=200 optionals={}, Polyline: points=[(100, 100), (150, 150), (80, 10)] optional={'fill': 'white', 'stroke': 'black'}]\n"
     ]
    },
    {
     "data": {
      "image/svg+xml": [
       "<svg baseProfile=\"full\" height=\"200\" version=\"1.1\" width=\"200\" xmlns=\"http://www.w3.org/2000/svg\" xmlns:ev=\"http://www.w3.org/2001/xml-events\" xmlns:xlink=\"http://www.w3.org/1999/xlink\"><defs/><polyline points=\"100,100 150,150 80,10\" style=\"fill: white; stroke: black;\"/></svg>"
      ],
      "text/plain": [
       "<IPython.core.display.SVG object>"
      ]
     },
     "execution_count": 13,
     "metadata": {},
     "output_type": "execute_result"
    }
   ],
   "source": [
    "# polyline no une el primer y ultimo punto.\n",
    "r = parser.parse(\"\"\"size height=200, width=200 \n",
    "polyline points=[(100,100),(150,150), (80,10)], stroke=\"black\", fill=\"white\" \"\"\")\n",
    "SVG(r)"
   ]
  },
  {
   "cell_type": "code",
   "execution_count": 14,
   "metadata": {
    "collapsed": false
   },
   "outputs": [
    {
     "name": "stdout",
     "output_type": "stream",
     "text": [
      "{'value': 200, 'type': 'number'}\n",
      "{'value': 200, 'type': 'number'}\n",
      "[(100, 100), (150, 150), (150, 50)]\n",
      "{'value': 'black', 'type': 'string'}\n",
      "{'value': 'white', 'type': 'string'}\n",
      "buildSVG: [Size: width=200 height=200 optionals={}, Polygon: points=[(100, 100), (150, 150), (150, 50)] optional={'fill': 'white', 'stroke': 'black'}]\n",
      "<svg baseProfile=\"full\" height=\"200\" version=\"1.1\" width=\"200\" xmlns=\"http://www.w3.org/2000/svg\" xmlns:ev=\"http://www.w3.org/2001/xml-events\" xmlns:xlink=\"http://www.w3.org/1999/xlink\"><defs /><polygon points=\"100,100 150,150 150,50\" style=\"fill: white; stroke: black;\" /></svg>\n"
     ]
    },
    {
     "data": {
      "image/svg+xml": [
       "<svg baseProfile=\"full\" height=\"200\" version=\"1.1\" width=\"200\" xmlns=\"http://www.w3.org/2000/svg\" xmlns:ev=\"http://www.w3.org/2001/xml-events\" xmlns:xlink=\"http://www.w3.org/1999/xlink\"><defs/><polygon points=\"100,100 150,150 150,50\" style=\"fill: white; stroke: black;\"/></svg>"
      ],
      "text/plain": [
       "<IPython.core.display.SVG object>"
      ]
     },
     "execution_count": 14,
     "metadata": {},
     "output_type": "execute_result"
    }
   ],
   "source": [
    "r = parser.parse(\"\"\"\n",
    "size height=200, width=200\n",
    "polygon points=[(100,100),(150,150),(150,50)], stroke=\"black\", fill=\"white\"\n",
    "\"\"\")\n",
    "print(r)\n",
    "SVG(r)"
   ]
  },
  {
   "cell_type": "code",
   "execution_count": 15,
   "metadata": {
    "collapsed": false
   },
   "outputs": [
    {
     "name": "stdout",
     "output_type": "stream",
     "text": [
      "{'value': 200, 'type': 'number'}\n",
      "{'value': 200, 'type': 'number'}\n",
      "(1, 1)\n",
      "(100, 150)\n",
      "{'value': 'green', 'type': 'string'}\n",
      "{'value': 'red', 'type': 'string'}\n",
      "{'value': 5, 'type': 'number'}\n",
      "(1, 150)\n",
      "(150, 1)\n",
      "{'value': 'green', 'type': 'string'}\n",
      "{'value': 'red', 'type': 'string'}\n",
      "{'value': 5, 'type': 'number'}\n",
      "{'value': 'TP 1', 'type': 'string'}\n",
      "(150, 180)\n",
      "{'value': '20', 'type': 'string'}\n",
      "buildSVG: [Size: width=200 height=200 optionals={}, Line: from=(1, 1) to=(100, 150) optional={'fill': 'red', 'stroke-width': 5, 'stroke': 'green'}, Line: from=(1, 150) to=(150, 1) optional={'fill': 'red', 'stroke-width': 5, 'stroke': 'green'}, Text: t=TP 1at=(150, 180) optional={'font-size': '20'}]\n"
     ]
    },
    {
     "data": {
      "image/svg+xml": [
       "<svg baseProfile=\"full\" height=\"200\" version=\"1.1\" width=\"200\" xmlns=\"http://www.w3.org/2000/svg\" xmlns:ev=\"http://www.w3.org/2001/xml-events\" xmlns:xlink=\"http://www.w3.org/1999/xlink\"><defs/><line style=\"fill: red; stroke: green; stroke-width: 5;\" x1=\"1\" x2=\"100\" y1=\"1\" y2=\"150\"/><line style=\"fill: red; stroke: green; stroke-width: 5;\" x1=\"1\" x2=\"150\" y1=\"150\" y2=\"1\"/><text font-size=\"20\" stroke-width=\"1\" x=\"150\" y=\"180\">TP 1</text></svg>"
      ],
      "text/plain": [
       "<IPython.core.display.SVG object>"
      ]
     },
     "execution_count": 15,
     "metadata": {},
     "output_type": "execute_result"
    }
   ],
   "source": [
    "entrada = \"\"\" size height=200, width=200 \n",
    "line from=(1,1), to=(100,150), stroke=\"green\", fill=\"red\", stroke-width=5 \n",
    "line from=(1,150), to=(150,1), stroke=\"green\", fill=\"red\", stroke-width=5\n",
    "text t=\"TP 1\", at=(150, 180), font-size=\"20\" \"\"\"\n",
    "\n",
    "#lexer.apply(entrada)\n",
    "r = parser.parse(entrada)\n",
    "SVG(r)"
   ]
  },
  {
   "cell_type": "code",
   "execution_count": 16,
   "metadata": {
    "collapsed": false
   },
   "outputs": [
    {
     "name": "stdout",
     "output_type": "stream",
     "text": [
      "{'value': 200, 'type': 'number'}\n",
      "{'value': 200, 'type': 'number'}\n",
      "{'value': 50, 'type': 'number'}\n",
      "{'value': 50, 'type': 'number'}\n",
      "{'value': 'red', 'type': 'string'}\n",
      "(0, 0)\n",
      "buildSVG: [Size: width=200 height=200 optionals={}, Rectangle: size=(50, 50) upper_left=(0, 0) optional={'fill': 'red'}]\n"
     ]
    },
    {
     "data": {
      "image/svg+xml": [
       "<svg baseProfile=\"full\" height=\"200\" version=\"1.1\" width=\"200\" xmlns=\"http://www.w3.org/2000/svg\" xmlns:ev=\"http://www.w3.org/2001/xml-events\" xmlns:xlink=\"http://www.w3.org/1999/xlink\"><defs/><rect height=\"50\" style=\"fill: red;\" width=\"50\" x=\"0\" y=\"0\"/></svg>"
      ],
      "text/plain": [
       "<IPython.core.display.SVG object>"
      ]
     },
     "execution_count": 16,
     "metadata": {},
     "output_type": "execute_result"
    }
   ],
   "source": [
    "#lexer.apply(\"size height=200, width=200 rectangle size=(50,50), fill=\\\"red\\\", upper_left=(0,0)\")\n",
    "\n",
    "r = parser.parse(\"size height=200, width=200 rectangle width=50, height=50, fill=\\\"red\\\", upper_left=(0,0)\")\n",
    "SVG(r)\n"
   ]
  },
  {
   "cell_type": "code",
   "execution_count": 17,
   "metadata": {
    "collapsed": false
   },
   "outputs": [
    {
     "name": "stdout",
     "output_type": "stream",
     "text": [
      "{'value': 200, 'type': 'number'}\n",
      "{'value': 200, 'type': 'number'}\n",
      "{'value': 50, 'type': 'number'}\n",
      "{'value': 50, 'type': 'number'}\n",
      "{'value': 'red', 'type': 'string'}\n",
      "(0, 0)\n",
      "{'value': 50, 'type': 'number'}\n",
      "{'value': 50, 'type': 'number'}\n",
      "{'value': 'blue', 'type': 'string'}\n",
      "(50, 0)\n",
      "buildSVG: [Size: width=200 height=200 optionals={}, Rectangle: size=(50, 50) upper_left=(0, 0) optional={'fill': 'red'}, Rectangle: size=(50, 50) upper_left=(50, 0) optional={'fill': 'blue'}]\n"
     ]
    },
    {
     "data": {
      "image/svg+xml": [
       "<svg baseProfile=\"full\" height=\"200\" version=\"1.1\" width=\"200\" xmlns=\"http://www.w3.org/2000/svg\" xmlns:ev=\"http://www.w3.org/2001/xml-events\" xmlns:xlink=\"http://www.w3.org/1999/xlink\"><defs/><rect height=\"50\" style=\"fill: red;\" width=\"50\" x=\"0\" y=\"0\"/><rect height=\"50\" style=\"fill: blue;\" width=\"50\" x=\"50\" y=\"0\"/></svg>"
      ],
      "text/plain": [
       "<IPython.core.display.SVG object>"
      ]
     },
     "execution_count": 17,
     "metadata": {},
     "output_type": "execute_result"
    }
   ],
   "source": [
    "r = parser.parse(\"\"\"size height=200, width=200\n",
    "rectangle width=50, height=50, fill=\\\"red\\\", upper_left=(0,0)\n",
    "rectangle width=50, height=50, fill=\\\"blue\\\", upper_left=(50,0)\"\"\")\n",
    "SVG(r)"
   ]
  },
  {
   "cell_type": "code",
   "execution_count": 19,
   "metadata": {
    "collapsed": false
   },
   "outputs": [
    {
     "name": "stdout",
     "output_type": "stream",
     "text": [
      "{'value': 200, 'type': 'number'}\n",
      "{'value': 200, 'type': 'number'}\n",
      "{'value': 200, 'type': 'number'}\n",
      "{'value': 200, 'type': 'number'}\n",
      "(1, 1)\n",
      "buildSVG: [Size: width=200 height=200 optionals={}, Rectangle: size=(200, 200) upper_left=(1, 1) optional={}]\n"
     ]
    }
   ],
   "source": [
    "r = parser.parse(\"size width=200, height=200 rectangle width=200, height=200, upper_left=(1,1)\")"
   ]
  },
  {
   "cell_type": "code",
   "execution_count": null,
   "metadata": {
    "collapsed": true
   },
   "outputs": [],
   "source": []
  },
  {
   "cell_type": "code",
   "execution_count": null,
   "metadata": {
    "collapsed": true
   },
   "outputs": [],
   "source": []
  }
 ],
 "metadata": {
  "anaconda-cloud": {},
  "kernelspec": {
   "display_name": "Python [default]",
   "language": "python",
   "name": "python3"
  },
  "language_info": {
   "codemirror_mode": {
    "name": "ipython",
    "version": 3
   },
   "file_extension": ".py",
   "mimetype": "text/x-python",
   "name": "python",
   "nbconvert_exporter": "python",
   "pygments_lexer": "ipython3",
   "version": "3.5.2"
  }
 },
 "nbformat": 4,
 "nbformat_minor": 1
}
