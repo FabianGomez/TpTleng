{
 "cells": [
  {
   "cell_type": "code",
   "execution_count": 1,
   "metadata": {
    "collapsed": false
   },
   "outputs": [],
   "source": [
    "%load_ext autoreload\n",
    "%autoreload 2\n",
    "\n",
    "import sys\n",
    "sys.path.append(\"..\")\n",
    "\n",
    "from IPython.display import SVG, display\n",
    "from dibu import parse\n",
    "from xml.dom.minidom import parseString as xmlParse"
   ]
  },
  {
   "cell_type": "code",
   "execution_count": 2,
   "metadata": {
    "collapsed": false
   },
   "outputs": [
    {
     "name": "stdout",
     "output_type": "stream",
     "text": [
      "<?xml version=\"1.0\" ?>\n",
      "<svg baseProfile=\"full\" height=\"200\" version=\"1.1\" width=\"200\" xmlns=\"http://www.w3.org/2000/svg\" xmlns:ev=\"http://www.w3.org/2001/xml-events\" xmlns:xlink=\"http://www.w3.org/1999/xlink\">\n",
      "\t<defs/>\n",
      "\t<rect fill=\"red\" height=\"50\" stroke-width=\"1\" width=\"50\" x=\"0\" y=\"0\"/>\n",
      "\t<rect height=\"50\" stroke-width=\"1\" width=\"50\" x=\"100\" y=\"0\"/>\n",
      "\t<rect height=\"50\" stroke-width=\"1\" width=\"50\" x=\"50\" y=\"50\"/>\n",
      "\t<rect height=\"50\" stroke-width=\"1\" width=\"50\" x=\"150\" y=\"50\"/>\n",
      "\t<rect height=\"50\" stroke-width=\"1\" width=\"50\" x=\"0\" y=\"100\"/>\n",
      "\t<rect height=\"50\" stroke-width=\"1\" width=\"50\" x=\"100\" y=\"100\"/>\n",
      "\t<rect height=\"50\" stroke-width=\"1\" width=\"50\" x=\"50\" y=\"150\"/>\n",
      "\t<rect height=\"50\" stroke-width=\"1\" width=\"50\" x=\"150\" y=\"150\"/>\n",
      "</svg>\n",
      "\n"
     ]
    },
    {
     "data": {
      "image/svg+xml": [
       "<svg baseProfile=\"full\" height=\"200\" version=\"1.1\" width=\"200\" xmlns=\"http://www.w3.org/2000/svg\" xmlns:ev=\"http://www.w3.org/2001/xml-events\" xmlns:xlink=\"http://www.w3.org/1999/xlink\"><defs/><rect fill=\"red\" height=\"50\" stroke-width=\"1\" width=\"50\" x=\"0\" y=\"0\"/><rect height=\"50\" stroke-width=\"1\" width=\"50\" x=\"100\" y=\"0\"/><rect height=\"50\" stroke-width=\"1\" width=\"50\" x=\"50\" y=\"50\"/><rect height=\"50\" stroke-width=\"1\" width=\"50\" x=\"150\" y=\"50\"/><rect height=\"50\" stroke-width=\"1\" width=\"50\" x=\"0\" y=\"100\"/><rect height=\"50\" stroke-width=\"1\" width=\"50\" x=\"100\" y=\"100\"/><rect height=\"50\" stroke-width=\"1\" width=\"50\" x=\"50\" y=\"150\"/><rect height=\"50\" stroke-width=\"1\" width=\"50\" x=\"150\" y=\"150\"/></svg>"
      ],
      "text/plain": [
       "<IPython.core.display.SVG object>"
      ]
     },
     "execution_count": 2,
     "metadata": {},
     "output_type": "execute_result"
    }
   ],
   "source": [
    "def show(dibu_prog):\n",
    "    output = parse(dibu_prog)\n",
    "    pretty_xml = xmlParse(output).toprettyxml()\n",
    "    print(pretty_xml)\n",
    "    return SVG(output)\n",
    "\n",
    "show('''\n",
    "\n",
    "size height=200, width=200\n",
    "\n",
    "rectangle upper_left=(0,0), size=(50, 50), fill=\"red\"\n",
    "rectangle upper_left=(100,0), size=(50, 50)\n",
    "\n",
    "rectangle upper_left=(50,50), size=(50, 50)\n",
    "rectangle upper_left=(150,50), size=(50, 50)\n",
    "\n",
    "rectangle upper_left=(0,100), size=(50, 50)\n",
    "rectangle upper_left=(100,100), size=(50, 50)\n",
    "\n",
    "rectangle upper_left=(50,150), size=(50, 50)\n",
    "rectangle upper_left=(150,150), size=(50, 50)\n",
    "\n",
    "\n",
    "''')\n"
   ]
  },
  {
   "cell_type": "code",
   "execution_count": 3,
   "metadata": {
    "collapsed": false
   },
   "outputs": [
    {
     "name": "stdout",
     "output_type": "stream",
     "text": [
      "<?xml version=\"1.0\" ?>\n",
      "<svg baseProfile=\"full\" height=\"100\" version=\"1.1\" width=\"100\" xmlns=\"http://www.w3.org/2000/svg\" xmlns:ev=\"http://www.w3.org/2001/xml-events\" xmlns:xlink=\"http://www.w3.org/1999/xlink\">\n",
      "\t<defs/>\n",
      "\t<circle cx=\"50\" cy=\"50\" fill=\"red\" r=\"50\" stroke-width=\"1\"/>\n",
      "\t<circle cx=\"50\" cy=\"50\" fill=\"black\" r=\"25\" stroke-width=\"1\"/>\n",
      "</svg>\n",
      "\n"
     ]
    },
    {
     "data": {
      "image/svg+xml": [
       "<svg baseProfile=\"full\" height=\"100\" version=\"1.1\" width=\"100\" xmlns=\"http://www.w3.org/2000/svg\" xmlns:ev=\"http://www.w3.org/2001/xml-events\" xmlns:xlink=\"http://www.w3.org/1999/xlink\"><defs/><circle cx=\"50\" cy=\"50\" fill=\"red\" r=\"50\" stroke-width=\"1\"/><circle cx=\"50\" cy=\"50\" fill=\"black\" r=\"25\" stroke-width=\"1\"/></svg>"
      ],
      "text/plain": [
       "<IPython.core.display.SVG object>"
      ]
     },
     "execution_count": 3,
     "metadata": {},
     "output_type": "execute_result"
    }
   ],
   "source": [
    "\n",
    "show('''\n",
    "    size height=100, width=100\n",
    "    circle center=(50, 50), radius=50, fill=\"red\"\n",
    "    circle center=(50, 50), radius=25, fill=\"black\"\n",
    "''')"
   ]
  },
  {
   "cell_type": "code",
   "execution_count": 5,
   "metadata": {
    "collapsed": false
   },
   "outputs": [
    {
     "name": "stderr",
     "output_type": "stream",
     "text": [
      "ERROR:root:An unexpected error occurred while tokenizing input\n",
      "The following traceback may be corrupted or invalid\n",
      "The error message is: ('EOF in multi-line string', (1, 0))\n",
      "\n"
     ]
    },
    {
     "name": "stdout",
     "output_type": "stream",
     "text": [
      "T_ERROR\n"
     ]
    },
    {
     "ename": "Exception",
     "evalue": "\ntype:error\nvalue:style=\"stroke: black; stroke-width: 3; fill: none\" \n    polygon points=[(0,0), (50, 50), (100, 0)], style=\"stroke: black; stroke-width: 3; fill: none\" \n    polygon points=[(0, 100), (50, 150), (0, 200)], style=\"stroke: black; stroke-width: 3; fill: none\" \n    polygon points=[(0, 200), (50, 150), (100, 200)], style=\"stroke: black; stroke-width: 3; fill: none\" \n    polygon points=[(100, 200), (150, 150), (200, 200)], style=\"stroke: black; stroke-width: 3; fill: none\"   \n    polygon points=[(200, 200), (150, 150), (200, 100)], style=\"stroke: black; stroke-width: 3; fill: none\"\n    polygon points=[(200, 100), (150, 50), (200, 0)], style=\"stroke: black; stroke-width: 3; fill: none\"\n    \n    polygon points=[(200, 0), (150, 50), (100, 0)], style=\"stroke: black; stroke-width: 3; fill: none\"\n\nline:3\nposition:112",
     "output_type": "error",
     "traceback": [
      "\u001b[0;31m---------------------------------------------------------------------------\u001b[0m",
      "\u001b[0;31mException\u001b[0m                                 Traceback (most recent call last)",
      "\u001b[0;32m<ipython-input-5-be16dc91f663>\u001b[0m in \u001b[0;36m<module>\u001b[0;34m()\u001b[0m\n\u001b[1;32m     10\u001b[0m \u001b[0;34m\u001b[0m\u001b[0m\n\u001b[1;32m     11\u001b[0m     \u001b[0mpolygon\u001b[0m \u001b[0mpoints\u001b[0m\u001b[0;34m=\u001b[0m\u001b[0;34m[\u001b[0m\u001b[0;34m(\u001b[0m\u001b[0;36m200\u001b[0m\u001b[0;34m,\u001b[0m \u001b[0;36m0\u001b[0m\u001b[0;34m)\u001b[0m\u001b[0;34m,\u001b[0m \u001b[0;34m(\u001b[0m\u001b[0;36m150\u001b[0m\u001b[0;34m,\u001b[0m \u001b[0;36m50\u001b[0m\u001b[0;34m)\u001b[0m\u001b[0;34m,\u001b[0m \u001b[0;34m(\u001b[0m\u001b[0;36m100\u001b[0m\u001b[0;34m,\u001b[0m \u001b[0;36m0\u001b[0m\u001b[0;34m)\u001b[0m\u001b[0;34m]\u001b[0m\u001b[0;34m,\u001b[0m \u001b[0mstyle\u001b[0m\u001b[0;34m=\u001b[0m\u001b[0;34m\"stroke: black; stroke-width: 3; fill: none\"\u001b[0m\u001b[0;34m\u001b[0m\u001b[0m\n\u001b[0;32m---> 12\u001b[0;31m ''')\n\u001b[0m",
      "\u001b[0;32m<ipython-input-2-4fd754fb4bad>\u001b[0m in \u001b[0;36mshow\u001b[0;34m(dibu_prog)\u001b[0m\n\u001b[1;32m      1\u001b[0m \u001b[0;32mdef\u001b[0m \u001b[0mshow\u001b[0m\u001b[0;34m(\u001b[0m\u001b[0mdibu_prog\u001b[0m\u001b[0;34m)\u001b[0m\u001b[0;34m:\u001b[0m\u001b[0;34m\u001b[0m\u001b[0m\n\u001b[0;32m----> 2\u001b[0;31m     \u001b[0moutput\u001b[0m \u001b[0;34m=\u001b[0m \u001b[0mparse\u001b[0m\u001b[0;34m(\u001b[0m\u001b[0mdibu_prog\u001b[0m\u001b[0;34m)\u001b[0m\u001b[0;34m\u001b[0m\u001b[0m\n\u001b[0m\u001b[1;32m      3\u001b[0m     \u001b[0mpretty_xml\u001b[0m \u001b[0;34m=\u001b[0m \u001b[0mxmlParse\u001b[0m\u001b[0;34m(\u001b[0m\u001b[0moutput\u001b[0m\u001b[0;34m)\u001b[0m\u001b[0;34m.\u001b[0m\u001b[0mtoprettyxml\u001b[0m\u001b[0;34m(\u001b[0m\u001b[0;34m)\u001b[0m\u001b[0;34m\u001b[0m\u001b[0m\n\u001b[1;32m      4\u001b[0m     \u001b[0mprint\u001b[0m\u001b[0;34m(\u001b[0m\u001b[0mpretty_xml\u001b[0m\u001b[0;34m)\u001b[0m\u001b[0;34m\u001b[0m\u001b[0m\n\u001b[1;32m      5\u001b[0m     \u001b[0;32mreturn\u001b[0m \u001b[0mSVG\u001b[0m\u001b[0;34m(\u001b[0m\u001b[0moutput\u001b[0m\u001b[0;34m)\u001b[0m\u001b[0;34m\u001b[0m\u001b[0m\n",
      "\u001b[0;32m/home/manuel/TpTleng/tp-tleng-20162c/dibu/parser.py\u001b[0m in \u001b[0;36mparse\u001b[0;34m(s)\u001b[0m\n\u001b[1;32m    277\u001b[0m     \u001b[0mparserInput\u001b[0m \u001b[0;34m=\u001b[0m \u001b[0ms\u001b[0m\u001b[0;34m\u001b[0m\u001b[0m\n\u001b[1;32m    278\u001b[0m     \u001b[0mreset\u001b[0m\u001b[0;34m(\u001b[0m\u001b[0;34m)\u001b[0m \u001b[0;31m# reseteamos el objeto lexer - sino se superpone el conteo de lineas\u001b[0m\u001b[0;34m\u001b[0m\u001b[0m\n\u001b[0;32m--> 279\u001b[0;31m     \u001b[0mr\u001b[0m \u001b[0;34m=\u001b[0m \u001b[0mparser\u001b[0m\u001b[0;34m.\u001b[0m\u001b[0mparse\u001b[0m\u001b[0;34m(\u001b[0m\u001b[0ms\u001b[0m\u001b[0;34m)\u001b[0m\u001b[0;34m\u001b[0m\u001b[0m\n\u001b[0m\u001b[1;32m    280\u001b[0m     \u001b[0;32mreturn\u001b[0m \u001b[0mbuildSVG\u001b[0m\u001b[0;34m(\u001b[0m\u001b[0mr\u001b[0m\u001b[0;34m)\u001b[0m\u001b[0;34m\u001b[0m\u001b[0m\n\u001b[1;32m    281\u001b[0m \u001b[0;34m\u001b[0m\u001b[0m\n",
      "\u001b[0;32m/home/manuel/anaconda3/lib/python3.5/site-packages/ply/yacc.py\u001b[0m in \u001b[0;36mparse\u001b[0;34m(self, input, lexer, debug, tracking, tokenfunc)\u001b[0m\n\u001b[1;32m    329\u001b[0m             \u001b[0;32mreturn\u001b[0m \u001b[0mself\u001b[0m\u001b[0;34m.\u001b[0m\u001b[0mparseopt\u001b[0m\u001b[0;34m(\u001b[0m\u001b[0minput\u001b[0m\u001b[0;34m,\u001b[0m \u001b[0mlexer\u001b[0m\u001b[0;34m,\u001b[0m \u001b[0mdebug\u001b[0m\u001b[0;34m,\u001b[0m \u001b[0mtracking\u001b[0m\u001b[0;34m,\u001b[0m \u001b[0mtokenfunc\u001b[0m\u001b[0;34m)\u001b[0m\u001b[0;34m\u001b[0m\u001b[0m\n\u001b[1;32m    330\u001b[0m         \u001b[0;32melse\u001b[0m\u001b[0;34m:\u001b[0m\u001b[0;34m\u001b[0m\u001b[0m\n\u001b[0;32m--> 331\u001b[0;31m             \u001b[0;32mreturn\u001b[0m \u001b[0mself\u001b[0m\u001b[0;34m.\u001b[0m\u001b[0mparseopt_notrack\u001b[0m\u001b[0;34m(\u001b[0m\u001b[0minput\u001b[0m\u001b[0;34m,\u001b[0m \u001b[0mlexer\u001b[0m\u001b[0;34m,\u001b[0m \u001b[0mdebug\u001b[0m\u001b[0;34m,\u001b[0m \u001b[0mtracking\u001b[0m\u001b[0;34m,\u001b[0m \u001b[0mtokenfunc\u001b[0m\u001b[0;34m)\u001b[0m\u001b[0;34m\u001b[0m\u001b[0m\n\u001b[0m\u001b[1;32m    332\u001b[0m \u001b[0;34m\u001b[0m\u001b[0m\n\u001b[1;32m    333\u001b[0m \u001b[0;34m\u001b[0m\u001b[0m\n",
      "\u001b[0;32m/home/manuel/anaconda3/lib/python3.5/site-packages/ply/yacc.py\u001b[0m in \u001b[0;36mparseopt_notrack\u001b[0;34m(self, input, lexer, debug, tracking, tokenfunc)\u001b[0m\n\u001b[1;32m   1059\u001b[0m                 \u001b[0;32mif\u001b[0m \u001b[0;32mnot\u001b[0m \u001b[0mlookahead\u001b[0m\u001b[0;34m:\u001b[0m\u001b[0;34m\u001b[0m\u001b[0m\n\u001b[1;32m   1060\u001b[0m                     \u001b[0;32mif\u001b[0m \u001b[0;32mnot\u001b[0m \u001b[0mlookaheadstack\u001b[0m\u001b[0;34m:\u001b[0m\u001b[0;34m\u001b[0m\u001b[0m\n\u001b[0;32m-> 1061\u001b[0;31m                         \u001b[0mlookahead\u001b[0m \u001b[0;34m=\u001b[0m \u001b[0mget_token\u001b[0m\u001b[0;34m(\u001b[0m\u001b[0;34m)\u001b[0m     \u001b[0;31m# Get the next token\u001b[0m\u001b[0;34m\u001b[0m\u001b[0m\n\u001b[0m\u001b[1;32m   1062\u001b[0m                     \u001b[0;32melse\u001b[0m\u001b[0;34m:\u001b[0m\u001b[0;34m\u001b[0m\u001b[0m\n\u001b[1;32m   1063\u001b[0m                         \u001b[0mlookahead\u001b[0m \u001b[0;34m=\u001b[0m \u001b[0mlookaheadstack\u001b[0m\u001b[0;34m.\u001b[0m\u001b[0mpop\u001b[0m\u001b[0;34m(\u001b[0m\u001b[0;34m)\u001b[0m\u001b[0;34m\u001b[0m\u001b[0m\n",
      "\u001b[0;32m/home/manuel/anaconda3/lib/python3.5/site-packages/ply/lex.py\u001b[0m in \u001b[0;36mtoken\u001b[0;34m(self)\u001b[0m\n\u001b[1;32m    384\u001b[0m                     \u001b[0mtok\u001b[0m\u001b[0;34m.\u001b[0m\u001b[0mlexpos\u001b[0m \u001b[0;34m=\u001b[0m \u001b[0mlexpos\u001b[0m\u001b[0;34m\u001b[0m\u001b[0m\n\u001b[1;32m    385\u001b[0m                     \u001b[0mself\u001b[0m\u001b[0;34m.\u001b[0m\u001b[0mlexpos\u001b[0m \u001b[0;34m=\u001b[0m \u001b[0mlexpos\u001b[0m\u001b[0;34m\u001b[0m\u001b[0m\n\u001b[0;32m--> 386\u001b[0;31m                     \u001b[0mnewtok\u001b[0m \u001b[0;34m=\u001b[0m \u001b[0mself\u001b[0m\u001b[0;34m.\u001b[0m\u001b[0mlexerrorf\u001b[0m\u001b[0;34m(\u001b[0m\u001b[0mtok\u001b[0m\u001b[0;34m)\u001b[0m\u001b[0;34m\u001b[0m\u001b[0m\n\u001b[0m\u001b[1;32m    387\u001b[0m                     \u001b[0;32mif\u001b[0m \u001b[0mlexpos\u001b[0m \u001b[0;34m==\u001b[0m \u001b[0mself\u001b[0m\u001b[0;34m.\u001b[0m\u001b[0mlexpos\u001b[0m\u001b[0;34m:\u001b[0m\u001b[0;34m\u001b[0m\u001b[0m\n\u001b[1;32m    388\u001b[0m                         \u001b[0;31m# Error method didn't change text position at all. This is an error.\u001b[0m\u001b[0;34m\u001b[0m\u001b[0;34m\u001b[0m\u001b[0m\n",
      "\u001b[0;32m/home/manuel/TpTleng/tp-tleng-20162c/dibu/lexer.py\u001b[0m in \u001b[0;36mt_error\u001b[0;34m(token)\u001b[0m\n\u001b[1;32m    111\u001b[0m     \u001b[0mmessage\u001b[0m \u001b[0;34m+=\u001b[0m \u001b[0;34m\"\\nline:\"\u001b[0m \u001b[0;34m+\u001b[0m \u001b[0mstr\u001b[0m\u001b[0;34m(\u001b[0m\u001b[0mtoken\u001b[0m\u001b[0;34m.\u001b[0m\u001b[0mlineno\u001b[0m\u001b[0;34m)\u001b[0m\u001b[0;34m\u001b[0m\u001b[0m\n\u001b[1;32m    112\u001b[0m     \u001b[0mmessage\u001b[0m \u001b[0;34m+=\u001b[0m \u001b[0;34m\"\\nposition:\"\u001b[0m \u001b[0;34m+\u001b[0m \u001b[0mstr\u001b[0m\u001b[0;34m(\u001b[0m\u001b[0mtoken\u001b[0m\u001b[0;34m.\u001b[0m\u001b[0mlexpos\u001b[0m\u001b[0;34m)\u001b[0m\u001b[0;34m\u001b[0m\u001b[0m\n\u001b[0;32m--> 113\u001b[0;31m     \u001b[0;32mraise\u001b[0m \u001b[0mException\u001b[0m\u001b[0;34m(\u001b[0m\u001b[0mmessage\u001b[0m\u001b[0;34m)\u001b[0m\u001b[0;34m\u001b[0m\u001b[0m\n\u001b[0m\u001b[1;32m    114\u001b[0m \u001b[0;34m\u001b[0m\u001b[0m\n\u001b[1;32m    115\u001b[0m \u001b[0;31m# Build the lexer\u001b[0m\u001b[0;34m\u001b[0m\u001b[0;34m\u001b[0m\u001b[0m\n",
      "\u001b[0;31mException\u001b[0m: \ntype:error\nvalue:style=\"stroke: black; stroke-width: 3; fill: none\" \n    polygon points=[(0,0), (50, 50), (100, 0)], style=\"stroke: black; stroke-width: 3; fill: none\" \n    polygon points=[(0, 100), (50, 150), (0, 200)], style=\"stroke: black; stroke-width: 3; fill: none\" \n    polygon points=[(0, 200), (50, 150), (100, 200)], style=\"stroke: black; stroke-width: 3; fill: none\" \n    polygon points=[(100, 200), (150, 150), (200, 200)], style=\"stroke: black; stroke-width: 3; fill: none\"   \n    polygon points=[(200, 200), (150, 150), (200, 100)], style=\"stroke: black; stroke-width: 3; fill: none\"\n    polygon points=[(200, 100), (150, 50), (200, 0)], style=\"stroke: black; stroke-width: 3; fill: none\"\n    \n    polygon points=[(200, 0), (150, 50), (100, 0)], style=\"stroke: black; stroke-width: 3; fill: none\"\n\nline:3\nposition:112"
     ]
    }
   ],
   "source": [
    "show('''\n",
    "    rectangle upper_left=(0,0), size=(200, 200), fill=\"yellow\"\n",
    "    polygon points=[(0,0), (50, 50), (0, 100)], style=\"stroke: black; stroke-width: 3; fill: none;\" \n",
    "    polygon points=[(0,0), (50, 50), (100, 0)], style=\"stroke: black; stroke-width: 3; fill: none;\" \n",
    "    polygon points=[(0, 100), (50, 150), (0, 200)], style=\"stroke: black; stroke-width: 3; fill: none;\" \n",
    "    polygon points=[(0, 200), (50, 150), (100, 200)], style=\"stroke: black; stroke-width: 3; fill: none;\" \n",
    "    polygon points=[(100, 200), (150, 150), (200, 200)], style=\"stroke: black; stroke-width: 3; fill: none;\"   \n",
    "    polygon points=[(200, 200), (150, 150), (200, 100)], style=\"stroke: black; stroke-width: 3; fill: none;\"\n",
    "    polygon points=[(200, 100), (150, 50), (200, 0)], style=\"stroke: black; stroke-width: 3; fill: none;\"\n",
    "    \n",
    "    polygon points=[(200, 0), (150, 50), (100, 0)], style=\"stroke: black; stroke-width: 3; fill: none;\"\n",
    "''')"
   ]
  },
  {
   "cell_type": "code",
   "execution_count": null,
   "metadata": {
    "collapsed": true
   },
   "outputs": [],
   "source": []
  }
 ],
 "metadata": {
  "anaconda-cloud": {},
  "kernelspec": {
   "display_name": "Python [default]",
   "language": "python",
   "name": "python3"
  },
  "language_info": {
   "codemirror_mode": {
    "name": "ipython",
    "version": 3
   },
   "file_extension": ".py",
   "mimetype": "text/x-python",
   "name": "python",
   "nbconvert_exporter": "python",
   "pygments_lexer": "ipython3",
   "version": "3.5.2"
  }
 },
 "nbformat": 4,
 "nbformat_minor": 1
}
