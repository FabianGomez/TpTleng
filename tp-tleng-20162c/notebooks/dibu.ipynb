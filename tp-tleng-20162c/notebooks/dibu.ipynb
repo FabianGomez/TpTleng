{
 "cells": [
  {
   "cell_type": "code",
   "execution_count": 1,
   "metadata": {
    "collapsed": false
   },
   "outputs": [],
   "source": [
    "%load_ext autoreload\n",
    "%autoreload 2\n",
    "\n",
    "import sys\n",
    "sys.path.append(\"..\")\n",
    "\n",
    "from IPython.display import SVG, display\n",
    "from dibu import parse\n",
    "from xml.dom.minidom import parseString as xmlParse"
   ]
  },
  {
   "cell_type": "code",
   "execution_count": 2,
   "metadata": {
    "collapsed": false
   },
   "outputs": [
    {
     "name": "stdout",
     "output_type": "stream",
     "text": [
      "<?xml version=\"1.0\" ?>\n",
      "<svg baseProfile=\"full\" height=\"200\" version=\"1.1\" width=\"200\" xmlns=\"http://www.w3.org/2000/svg\" xmlns:ev=\"http://www.w3.org/2001/xml-events\" xmlns:xlink=\"http://www.w3.org/1999/xlink\">\n",
      "\t<defs/>\n",
      "\t<rect fill=\"red\" height=\"50\" width=\"50\" x=\"0\" y=\"0\"/>\n",
      "\t<rect height=\"50\" width=\"50\" x=\"100\" y=\"0\"/>\n",
      "\t<rect height=\"50\" width=\"50\" x=\"50\" y=\"50\"/>\n",
      "\t<rect height=\"50\" width=\"50\" x=\"150\" y=\"50\"/>\n",
      "\t<rect height=\"50\" width=\"50\" x=\"0\" y=\"100\"/>\n",
      "\t<rect height=\"50\" width=\"50\" x=\"100\" y=\"100\"/>\n",
      "\t<rect height=\"50\" width=\"50\" x=\"50\" y=\"150\"/>\n",
      "\t<rect height=\"50\" width=\"50\" x=\"150\" y=\"150\"/>\n",
      "</svg>\n",
      "\n"
     ]
    },
    {
     "data": {
      "image/svg+xml": [
       "<svg baseProfile=\"full\" height=\"200\" version=\"1.1\" width=\"200\" xmlns=\"http://www.w3.org/2000/svg\" xmlns:ev=\"http://www.w3.org/2001/xml-events\" xmlns:xlink=\"http://www.w3.org/1999/xlink\"><defs/><rect fill=\"red\" height=\"50\" width=\"50\" x=\"0\" y=\"0\"/><rect height=\"50\" width=\"50\" x=\"100\" y=\"0\"/><rect height=\"50\" width=\"50\" x=\"50\" y=\"50\"/><rect height=\"50\" width=\"50\" x=\"150\" y=\"50\"/><rect height=\"50\" width=\"50\" x=\"0\" y=\"100\"/><rect height=\"50\" width=\"50\" x=\"100\" y=\"100\"/><rect height=\"50\" width=\"50\" x=\"50\" y=\"150\"/><rect height=\"50\" width=\"50\" x=\"150\" y=\"150\"/></svg>"
      ],
      "text/plain": [
       "<IPython.core.display.SVG object>"
      ]
     },
     "execution_count": 2,
     "metadata": {},
     "output_type": "execute_result"
    }
   ],
   "source": [
    "def show(dibu_prog):\n",
    "    output = parse(dibu_prog)\n",
    "    pretty_xml = xmlParse(output).toprettyxml()\n",
    "    print(pretty_xml)\n",
    "    return SVG(output)\n",
    "\n",
    "show('''\n",
    "\n",
    "size height=200, width=200\n",
    "\n",
    "rectangle upper_left=(0,0), size=(50, 50), fill=\"red\"\n",
    "rectangle upper_left=(100,0), size=(50, 50)\n",
    "\n",
    "rectangle upper_left=(50,50), size=(50, 50)\n",
    "rectangle upper_left=(150,50), size=(50, 50)\n",
    "\n",
    "rectangle upper_left=(0,100), size=(50, 50)\n",
    "rectangle upper_left=(100,100), size=(50, 50)\n",
    "\n",
    "rectangle upper_left=(50,150), size=(50, 50)\n",
    "rectangle upper_left=(150,150), size=(50, 50)\n",
    "\n",
    "\n",
    "''')\n"
   ]
  },
  {
   "cell_type": "code",
   "execution_count": 3,
   "metadata": {
    "collapsed": false
   },
   "outputs": [
    {
     "name": "stdout",
     "output_type": "stream",
     "text": [
      "<?xml version=\"1.0\" ?>\n",
      "<svg baseProfile=\"full\" height=\"100\" version=\"1.1\" width=\"100\" xmlns=\"http://www.w3.org/2000/svg\" xmlns:ev=\"http://www.w3.org/2001/xml-events\" xmlns:xlink=\"http://www.w3.org/1999/xlink\">\n",
      "\t<defs/>\n",
      "\t<circle cx=\"50\" cy=\"50\" fill=\"red\" r=\"50\"/>\n",
      "\t<circle cx=\"50\" cy=\"50\" fill=\"black\" r=\"25\"/>\n",
      "</svg>\n",
      "\n"
     ]
    },
    {
     "data": {
      "image/svg+xml": [
       "<svg baseProfile=\"full\" height=\"100\" version=\"1.1\" width=\"100\" xmlns=\"http://www.w3.org/2000/svg\" xmlns:ev=\"http://www.w3.org/2001/xml-events\" xmlns:xlink=\"http://www.w3.org/1999/xlink\"><defs/><circle cx=\"50\" cy=\"50\" fill=\"red\" r=\"50\"/><circle cx=\"50\" cy=\"50\" fill=\"black\" r=\"25\"/></svg>"
      ],
      "text/plain": [
       "<IPython.core.display.SVG object>"
      ]
     },
     "execution_count": 3,
     "metadata": {},
     "output_type": "execute_result"
    }
   ],
   "source": [
    "\n",
    "show('''\n",
    "    size height=100, width=100\n",
    "    circle center=(50, 50), radius=50, fill=\"red\"\n",
    "    circle center=(50, 50), radius=25, fill=\"black\"\n",
    "''')"
   ]
  },
  {
   "cell_type": "code",
   "execution_count": 1,
   "metadata": {
    "collapsed": false
   },
   "outputs": [
    {
     "ename": "NameError",
     "evalue": "name 'show' is not defined",
     "output_type": "error",
     "traceback": [
      "\u001b[0;31m---------------------------------------------------------------------------\u001b[0m",
      "\u001b[0;31mNameError\u001b[0m                                 Traceback (most recent call last)",
      "\u001b[0;32m<ipython-input-1-ac7e0351da48>\u001b[0m in \u001b[0;36m<module>\u001b[0;34m()\u001b[0m\n\u001b[0;32m----> 1\u001b[0;31m show('''\n\u001b[0m\u001b[1;32m      2\u001b[0m     \u001b[0mrectangle\u001b[0m \u001b[0mupper_left\u001b[0m\u001b[0;34m=\u001b[0m\u001b[0;34m(\u001b[0m\u001b[0;36m0\u001b[0m\u001b[0;34m,\u001b[0m\u001b[0;36m0\u001b[0m\u001b[0;34m)\u001b[0m\u001b[0;34m,\u001b[0m \u001b[0msize\u001b[0m\u001b[0;34m=\u001b[0m\u001b[0;34m(\u001b[0m\u001b[0;36m200\u001b[0m\u001b[0;34m,\u001b[0m \u001b[0;36m200\u001b[0m\u001b[0;34m)\u001b[0m\u001b[0;34m,\u001b[0m \u001b[0mfill\u001b[0m\u001b[0;34m=\u001b[0m\u001b[0;34m\"yellow\"\u001b[0m\u001b[0;34m\u001b[0m\u001b[0m\n\u001b[1;32m      3\u001b[0m     \u001b[0mpolygon\u001b[0m \u001b[0mpoints\u001b[0m\u001b[0;34m=\u001b[0m\u001b[0;34m[\u001b[0m\u001b[0;34m(\u001b[0m\u001b[0;36m0\u001b[0m\u001b[0;34m,\u001b[0m\u001b[0;36m0\u001b[0m\u001b[0;34m)\u001b[0m\u001b[0;34m,\u001b[0m \u001b[0;34m(\u001b[0m\u001b[0;36m50\u001b[0m\u001b[0;34m,\u001b[0m \u001b[0;36m50\u001b[0m\u001b[0;34m)\u001b[0m\u001b[0;34m,\u001b[0m \u001b[0;34m(\u001b[0m\u001b[0;36m0\u001b[0m\u001b[0;34m,\u001b[0m \u001b[0;36m100\u001b[0m\u001b[0;34m)\u001b[0m\u001b[0;34m]\u001b[0m\u001b[0;34m,\u001b[0m \u001b[0mstyle\u001b[0m\u001b[0;34m=\u001b[0m\u001b[0;34m\"stroke: black; stroke-width: 3; fill: none;\"\u001b[0m\u001b[0;34m\u001b[0m\u001b[0m\n\u001b[1;32m      4\u001b[0m     \u001b[0mpolygon\u001b[0m \u001b[0mpoints\u001b[0m\u001b[0;34m=\u001b[0m\u001b[0;34m[\u001b[0m\u001b[0;34m(\u001b[0m\u001b[0;36m0\u001b[0m\u001b[0;34m,\u001b[0m\u001b[0;36m0\u001b[0m\u001b[0;34m)\u001b[0m\u001b[0;34m,\u001b[0m \u001b[0;34m(\u001b[0m\u001b[0;36m50\u001b[0m\u001b[0;34m,\u001b[0m \u001b[0;36m50\u001b[0m\u001b[0;34m)\u001b[0m\u001b[0;34m,\u001b[0m \u001b[0;34m(\u001b[0m\u001b[0;36m100\u001b[0m\u001b[0;34m,\u001b[0m \u001b[0;36m0\u001b[0m\u001b[0;34m)\u001b[0m\u001b[0;34m]\u001b[0m\u001b[0;34m,\u001b[0m \u001b[0mstyle\u001b[0m\u001b[0;34m=\u001b[0m\u001b[0;34m\"stroke: black; stroke-width: 3; fill: none;\"\u001b[0m\u001b[0;34m\u001b[0m\u001b[0m\n\u001b[1;32m      5\u001b[0m     \u001b[0mpolygon\u001b[0m \u001b[0mpoints\u001b[0m\u001b[0;34m=\u001b[0m\u001b[0;34m[\u001b[0m\u001b[0;34m(\u001b[0m\u001b[0;36m0\u001b[0m\u001b[0;34m,\u001b[0m \u001b[0;36m100\u001b[0m\u001b[0;34m)\u001b[0m\u001b[0;34m,\u001b[0m \u001b[0;34m(\u001b[0m\u001b[0;36m50\u001b[0m\u001b[0;34m,\u001b[0m \u001b[0;36m150\u001b[0m\u001b[0;34m)\u001b[0m\u001b[0;34m,\u001b[0m \u001b[0;34m(\u001b[0m\u001b[0;36m0\u001b[0m\u001b[0;34m,\u001b[0m \u001b[0;36m200\u001b[0m\u001b[0;34m)\u001b[0m\u001b[0;34m]\u001b[0m\u001b[0;34m,\u001b[0m \u001b[0mstyle\u001b[0m\u001b[0;34m=\u001b[0m\u001b[0;34m\"stroke: black; stroke-width: 3; fill: none;\"\u001b[0m\u001b[0;34m\u001b[0m\u001b[0m\n",
      "\u001b[0;31mNameError\u001b[0m: name 'show' is not defined"
     ]
    }
   ],
   "source": [
    "show('''\n",
    "    rectangle upper_left=(0,0), size=(200, 200), fill=\"yellow\"\n",
    "    polygon points=[(0,0), (50, 50), (0, 100)], style=\"stroke: black; stroke-width: 3; fill: none;\" \n",
    "    polygon points=[(0,0), (50, 50), (100, 0)], style=\"stroke: black; stroke-width: 3; fill: none;\" \n",
    "    polygon points=[(0, 100), (50, 150), (0, 200)], style=\"stroke: black; stroke-width: 3; fill: none;\" \n",
    "    polygon points=[(0, 200), (50, 150), (100, 200)], style=\"stroke: black; stroke-width: 3; fill: none;\" \n",
    "    polygon points=[(100, 200), (150, 150), (200, 200)], style=\"stroke: black; stroke-width: 3; fill: none;\"   \n",
    "    polygon points=[(200, 200), (150, 150), (200, 100)], style=\"stroke: black; stroke-width: 3; fill: none;\"\n",
    "    polygon points=[(200, 100), (150, 50), (200, 0)], style=\"stroke: black; stroke-width: 3; fill: none;\"\n",
    "    \n",
    "    polygon points=[(200, 0), (150, 50), (100, 0)], style=\"stroke: black; stroke-width: 3; fill: none;\"\n",
    "''')"
   ]
  },
  {
   "cell_type": "code",
   "execution_count": null,
   "metadata": {
    "collapsed": true
   },
   "outputs": [],
   "source": []
  }
 ],
 "metadata": {
  "anaconda-cloud": {},
  "kernelspec": {
   "display_name": "Python 2",
   "language": "python",
   "name": "python2"
  },
  "language_info": {
   "codemirror_mode": {
    "name": "ipython",
    "version": 2
   },
   "file_extension": ".py",
   "mimetype": "text/x-python",
   "name": "python",
   "nbconvert_exporter": "python",
   "pygments_lexer": "ipython2",
   "version": "2.7.12"
  }
 },
 "nbformat": 4,
 "nbformat_minor": 1
}
