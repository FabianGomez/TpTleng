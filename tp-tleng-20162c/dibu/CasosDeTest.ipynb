{
 "cells": [
  {
   "cell_type": "code",
   "execution_count": 1,
   "metadata": {
    "collapsed": false
   },
   "outputs": [
    {
     "data": {
      "text/plain": [
       "[LexToken(SIZE,'size',1,0),\n",
       " LexToken(HEIGHT,'height',1,5),\n",
       " LexToken(EQUAL,'=',1,11),\n",
       " LexToken(NUMBER,{'type': 'number', 'value': 200},1,12),\n",
       " LexToken(COMMA,',',1,15),\n",
       " LexToken(WIDTH,'width',1,17),\n",
       " LexToken(EQUAL,'=',1,22),\n",
       " LexToken(NUMBER,{'type': 'number', 'value': 200},1,23),\n",
       " LexToken(LINE,'line',1,27),\n",
       " LexToken(FROM,'from',1,32),\n",
       " LexToken(EQUAL,'=',1,36),\n",
       " LexToken(LPAREN,'(',1,37),\n",
       " LexToken(NUMBER,{'type': 'number', 'value': 100},1,38),\n",
       " LexToken(COMMA,',',1,41),\n",
       " LexToken(NUMBER,{'type': 'number', 'value': 50},1,42),\n",
       " LexToken(RPAREN,')',1,44),\n",
       " LexToken(COMMA,',',1,45),\n",
       " LexToken(TO,'to',1,47),\n",
       " LexToken(EQUAL,'=',1,49),\n",
       " LexToken(LPAREN,'(',1,50),\n",
       " LexToken(NUMBER,{'type': 'number', 'value': 100},1,51),\n",
       " LexToken(COMMA,',',1,54),\n",
       " LexToken(NUMBER,{'type': 'number', 'value': 150},1,55),\n",
       " LexToken(RPAREN,')',1,58)]"
      ]
     },
     "execution_count": 1,
     "metadata": {},
     "output_type": "execute_result"
    }
   ],
   "source": [
    "import lexer\n",
    "lexer.apply(\"\"\"size height=200, width=200 line from=(100,50), to=(100,150) \"\"\")"
   ]
  },
  {
   "cell_type": "code",
   "execution_count": 2,
   "metadata": {
    "collapsed": false
   },
   "outputs": [
    {
     "data": {
      "text/plain": [
       "[LexToken(SIZE,'size',2,1),\n",
       " LexToken(HEIGHT,'height',2,6),\n",
       " LexToken(EQUAL,'=',2,12),\n",
       " LexToken(NUMBER,{'type': 'number', 'value': 200},2,13),\n",
       " LexToken(COMMA,',',2,16),\n",
       " LexToken(WIDTH,'width',2,18),\n",
       " LexToken(EQUAL,'=',2,23),\n",
       " LexToken(NUMBER,{'type': 'number', 'value': 200},2,24),\n",
       " LexToken(ELLIPSE,'ellipse',3,28),\n",
       " LexToken(CENTER,'center',3,36),\n",
       " LexToken(EQUAL,'=',3,42),\n",
       " LexToken(LPAREN,'(',3,43),\n",
       " LexToken(NUMBER,{'type': 'number', 'value': 100},3,44),\n",
       " LexToken(COMMA,',',3,47),\n",
       " LexToken(NUMBER,{'type': 'number', 'value': 100},3,48),\n",
       " LexToken(RPAREN,')',3,51),\n",
       " LexToken(COMMA,',',3,52),\n",
       " LexToken(RX,'rx',3,54),\n",
       " LexToken(EQUAL,'=',3,56),\n",
       " LexToken(NUMBER,{'type': 'number', 'value': 50},3,57),\n",
       " LexToken(COMMA,',',3,59),\n",
       " LexToken(RY,'ry',3,61),\n",
       " LexToken(EQUAL,'=',3,63),\n",
       " LexToken(NUMBER,{'type': 'number', 'value': 50},3,64)]"
      ]
     },
     "execution_count": 2,
     "metadata": {},
     "output_type": "execute_result"
    }
   ],
   "source": [
    "lexer.apply(\"\"\"\n",
    "size height=200, width=200\n",
    "ellipse center=(100,100), rx=50, ry=50\n",
    "\"\"\")"
   ]
  },
  {
   "cell_type": "code",
   "execution_count": 3,
   "metadata": {
    "collapsed": false
   },
   "outputs": [
    {
     "data": {
      "text/plain": [
       "[LexToken(SIZE,'size',5,1),\n",
       " LexToken(HEIGHT,'height',5,6),\n",
       " LexToken(EQUAL,'=',5,12),\n",
       " LexToken(NUMBER,{'type': 'number', 'value': 200},5,13),\n",
       " LexToken(COMMA,',',5,16),\n",
       " LexToken(WIDTH,'width',5,18),\n",
       " LexToken(EQUAL,'=',5,23),\n",
       " LexToken(NUMBER,{'type': 'number', 'value': 200},5,24),\n",
       " LexToken(CIRCLE,'circle',6,28),\n",
       " LexToken(CENTER,'center',6,35),\n",
       " LexToken(EQUAL,'=',6,41),\n",
       " LexToken(LPAREN,'(',6,42),\n",
       " LexToken(NUMBER,{'type': 'number', 'value': 100},6,43),\n",
       " LexToken(COMMA,',',6,46),\n",
       " LexToken(NUMBER,{'type': 'number', 'value': 100},6,47),\n",
       " LexToken(RPAREN,')',6,50),\n",
       " LexToken(COMMA,',',6,51),\n",
       " LexToken(RADIUS,'radius',6,53),\n",
       " LexToken(EQUAL,'=',6,59),\n",
       " LexToken(NUMBER,{'type': 'number', 'value': 50},6,60)]"
      ]
     },
     "execution_count": 3,
     "metadata": {},
     "output_type": "execute_result"
    }
   ],
   "source": [
    "lexer.apply(\"\"\"\n",
    "size height=200, width=200\n",
    "circle center=(100,100), radius=50\n",
    "\"\"\")"
   ]
  },
  {
   "cell_type": "code",
   "execution_count": 4,
   "metadata": {
    "collapsed": false
   },
   "outputs": [
    {
     "data": {
      "text/plain": [
       "[LexToken(SIZE,'size',8,1),\n",
       " LexToken(HEIGHT,'height',8,6),\n",
       " LexToken(EQUAL,'=',8,12),\n",
       " LexToken(NUMBER,{'type': 'number', 'value': 200},8,13),\n",
       " LexToken(COMMA,',',8,16),\n",
       " LexToken(WIDTH,'width',8,18),\n",
       " LexToken(EQUAL,'=',8,23),\n",
       " LexToken(NUMBER,{'type': 'number', 'value': 200},8,24),\n",
       " LexToken(POLYLINE,'polyline',9,28),\n",
       " LexToken(POINTS,'points',9,37),\n",
       " LexToken(EQUAL,'=',9,43),\n",
       " LexToken(LBRACKET,'[',9,44),\n",
       " LexToken(LPAREN,'(',9,45),\n",
       " LexToken(NUMBER,{'type': 'number', 'value': 100},9,46),\n",
       " LexToken(COMMA,',',9,49),\n",
       " LexToken(NUMBER,{'type': 'number', 'value': 100},9,50),\n",
       " LexToken(RPAREN,')',9,53),\n",
       " LexToken(COMMA,',',9,54),\n",
       " LexToken(LPAREN,'(',9,55),\n",
       " LexToken(NUMBER,{'type': 'number', 'value': 150},9,56),\n",
       " LexToken(COMMA,',',9,59),\n",
       " LexToken(NUMBER,{'type': 'number', 'value': 150},9,60),\n",
       " LexToken(RPAREN,')',9,63),\n",
       " LexToken(COMMA,',',9,64),\n",
       " LexToken(LPAREN,'(',9,65),\n",
       " LexToken(NUMBER,{'type': 'number', 'value': 150},9,66),\n",
       " LexToken(COMMA,',',9,69),\n",
       " LexToken(NUMBER,{'type': 'number', 'value': 50},9,70),\n",
       " LexToken(RPAREN,')',9,72),\n",
       " LexToken(RBRACKET,']',9,73)]"
      ]
     },
     "execution_count": 4,
     "metadata": {},
     "output_type": "execute_result"
    }
   ],
   "source": [
    "lexer.apply(\"\"\"\n",
    "size height=200, width=200\n",
    "polyline points=[(100,100),(150,150),(150,50)]\n",
    "\"\"\")"
   ]
  },
  {
   "cell_type": "code",
   "execution_count": 6,
   "metadata": {
    "collapsed": false
   },
   "outputs": [
    {
     "data": {
      "text/plain": [
       "[LexToken(SIZE,'size',13,1),\n",
       " LexToken(HEIGHT,'height',13,6),\n",
       " LexToken(EQUAL,'=',13,12),\n",
       " LexToken(NUMBER,{'type': 'number', 'value': 200},13,13),\n",
       " LexToken(COMMA,',',13,16),\n",
       " LexToken(WIDTH,'width',13,18),\n",
       " LexToken(EQUAL,'=',13,23),\n",
       " LexToken(NUMBER,{'type': 'number', 'value': 200},13,24),\n",
       " LexToken(POLYGON,'polygon',14,28),\n",
       " LexToken(POINTS,'points',14,36),\n",
       " LexToken(EQUAL,'=',14,42),\n",
       " LexToken(LBRACKET,'[',14,43),\n",
       " LexToken(LPAREN,'(',14,44),\n",
       " LexToken(NUMBER,{'type': 'number', 'value': 100},14,45),\n",
       " LexToken(COMMA,',',14,48),\n",
       " LexToken(NUMBER,{'type': 'number', 'value': 100},14,49),\n",
       " LexToken(RPAREN,')',14,52),\n",
       " LexToken(COMMA,',',14,53),\n",
       " LexToken(LPAREN,'(',14,54),\n",
       " LexToken(NUMBER,{'type': 'number', 'value': 150},14,55),\n",
       " LexToken(COMMA,',',14,58),\n",
       " LexToken(NUMBER,{'type': 'number', 'value': 150},14,59),\n",
       " LexToken(RPAREN,')',14,62),\n",
       " LexToken(COMMA,',',14,63),\n",
       " LexToken(LPAREN,'(',14,64),\n",
       " LexToken(NUMBER,{'type': 'number', 'value': 150},14,65),\n",
       " LexToken(COMMA,',',14,68),\n",
       " LexToken(NUMBER,{'type': 'number', 'value': 50},14,69),\n",
       " LexToken(RPAREN,')',14,71),\n",
       " LexToken(RBRACKET,']',14,72)]"
      ]
     },
     "execution_count": 6,
     "metadata": {},
     "output_type": "execute_result"
    }
   ],
   "source": [
    "lexer.apply(\"\"\"\n",
    "size height=200, width=200\n",
    "polygon points=[(100,100),(150,150),(150,50)]\n",
    "\"\"\")"
   ]
  },
  {
   "cell_type": "code",
   "execution_count": null,
   "metadata": {
    "collapsed": true
   },
   "outputs": [],
   "source": []
  }
 ],
 "metadata": {
  "kernelspec": {
   "display_name": "Python 2",
   "language": "python",
   "name": "python2"
  },
  "language_info": {
   "codemirror_mode": {
    "name": "ipython",
    "version": 2
   },
   "file_extension": ".py",
   "mimetype": "text/x-python",
   "name": "python",
   "nbconvert_exporter": "python",
   "pygments_lexer": "ipython2",
   "version": "2.7.12"
  }
 },
 "nbformat": 4,
 "nbformat_minor": 1
}
