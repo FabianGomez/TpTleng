{
 "cells": [
  {
   "cell_type": "code",
   "execution_count": 1,
   "metadata": {
    "collapsed": false
   },
   "outputs": [
    {
     "data": {
      "text/plain": [
       "[LexToken(SIZE,'size',1,0),\n",
       " LexToken(HEIGHT,'height',1,5),\n",
       " LexToken(EQUAL,'=',1,11),\n",
       " LexToken(NUMBER,{'type': 'number', 'value': 200},1,12),\n",
       " LexToken(COMMA,',',1,15),\n",
       " LexToken(WIDTH,'width',1,17),\n",
       " LexToken(EQUAL,'=',1,22),\n",
       " LexToken(NUMBER,{'type': 'number', 'value': 200},1,23),\n",
       " LexToken(LINE,'line',1,27),\n",
       " LexToken(FROM,'from',1,32),\n",
       " LexToken(EQUAL,'=',1,36),\n",
       " LexToken(LPAREN,'(',1,37),\n",
       " LexToken(NUMBER,{'type': 'number', 'value': 100},1,38),\n",
       " LexToken(COMMA,',',1,41),\n",
       " LexToken(NUMBER,{'type': 'number', 'value': 50},1,42),\n",
       " LexToken(RPAREN,')',1,44),\n",
       " LexToken(COMMA,',',1,45),\n",
       " LexToken(TO,'to',1,47),\n",
       " LexToken(EQUAL,'=',1,49),\n",
       " LexToken(LPAREN,'(',1,50),\n",
       " LexToken(NUMBER,{'type': 'number', 'value': 100},1,51),\n",
       " LexToken(COMMA,',',1,54),\n",
       " LexToken(NUMBER,{'type': 'number', 'value': 150},1,55),\n",
       " LexToken(RPAREN,')',1,58)]"
      ]
     },
     "execution_count": 1,
     "metadata": {},
     "output_type": "execute_result"
    }
   ],
   "source": [
    "import lexer\n",
    "lexer.apply(\"\"\"size height=200, width=200 line from=(100,50), to=(100,150) \"\"\")"
   ]
  },
  {
   "cell_type": "code",
   "execution_count": 2,
   "metadata": {
    "collapsed": false
   },
   "outputs": [
    {
     "data": {
      "text/plain": [
       "[LexToken(SIZE,'size',2,1),\n",
       " LexToken(HEIGHT,'height',2,6),\n",
       " LexToken(EQUAL,'=',2,12),\n",
       " LexToken(NUMBER,{'type': 'number', 'value': 200},2,13),\n",
       " LexToken(COMMA,',',2,16),\n",
       " LexToken(WIDTH,'width',2,18),\n",
       " LexToken(EQUAL,'=',2,23),\n",
       " LexToken(NUMBER,{'type': 'number', 'value': 200},2,24),\n",
       " LexToken(ELLIPSE,'ellipse',3,28),\n",
       " LexToken(CENTER,'center',3,36),\n",
       " LexToken(EQUAL,'=',3,42),\n",
       " LexToken(LPAREN,'(',3,43),\n",
       " LexToken(NUMBER,{'type': 'number', 'value': 100},3,44),\n",
       " LexToken(COMMA,',',3,47),\n",
       " LexToken(NUMBER,{'type': 'number', 'value': 100},3,48),\n",
       " LexToken(RPAREN,')',3,51),\n",
       " LexToken(COMMA,',',3,52),\n",
       " LexToken(RX,'rx',3,54),\n",
       " LexToken(EQUAL,'=',3,56),\n",
       " LexToken(NUMBER,{'type': 'number', 'value': 50},3,57),\n",
       " LexToken(COMMA,',',3,59),\n",
       " LexToken(RY,'ry',3,61),\n",
       " LexToken(EQUAL,'=',3,63),\n",
       " LexToken(NUMBER,{'type': 'number', 'value': 50},3,64)]"
      ]
     },
     "execution_count": 2,
     "metadata": {},
     "output_type": "execute_result"
    }
   ],
   "source": [
    "lexer.apply(\"\"\"\n",
    "size height=200, width=200\n",
    "ellipse center=(100,100), rx=50, ry=50\n",
    "\"\"\")"
   ]
  },
  {
   "cell_type": "code",
   "execution_count": 3,
   "metadata": {
    "collapsed": false
   },
   "outputs": [
    {
     "data": {
      "text/plain": [
       "[LexToken(SIZE,'size',5,1),\n",
       " LexToken(HEIGHT,'height',5,6),\n",
       " LexToken(EQUAL,'=',5,12),\n",
       " LexToken(NUMBER,{'type': 'number', 'value': 200},5,13),\n",
       " LexToken(COMMA,',',5,16),\n",
       " LexToken(WIDTH,'width',5,18),\n",
       " LexToken(EQUAL,'=',5,23),\n",
       " LexToken(NUMBER,{'type': 'number', 'value': 200},5,24),\n",
       " LexToken(CIRCLE,'circle',6,28),\n",
       " LexToken(CENTER,'center',6,35),\n",
       " LexToken(EQUAL,'=',6,41),\n",
       " LexToken(LPAREN,'(',6,42),\n",
       " LexToken(NUMBER,{'type': 'number', 'value': 100},6,43),\n",
       " LexToken(COMMA,',',6,46),\n",
       " LexToken(NUMBER,{'type': 'number', 'value': 100},6,47),\n",
       " LexToken(RPAREN,')',6,50),\n",
       " LexToken(COMMA,',',6,51),\n",
       " LexToken(RADIUS,'radius',6,53),\n",
       " LexToken(EQUAL,'=',6,59),\n",
       " LexToken(NUMBER,{'type': 'number', 'value': 50},6,60)]"
      ]
     },
     "execution_count": 3,
     "metadata": {},
     "output_type": "execute_result"
    }
   ],
   "source": [
    "lexer.apply(\"\"\"\n",
    "size height=200, width=200\n",
    "circle center=(100,100), radius=50\n",
    "\"\"\")"
   ]
  },
  {
   "cell_type": "code",
   "execution_count": 4,
   "metadata": {
    "collapsed": false
   },
   "outputs": [
    {
     "data": {
      "text/plain": [
       "[LexToken(SIZE,'size',8,1),\n",
       " LexToken(HEIGHT,'height',8,6),\n",
       " LexToken(EQUAL,'=',8,12),\n",
       " LexToken(NUMBER,{'type': 'number', 'value': 200},8,13),\n",
       " LexToken(COMMA,',',8,16),\n",
       " LexToken(WIDTH,'width',8,18),\n",
       " LexToken(EQUAL,'=',8,23),\n",
       " LexToken(NUMBER,{'type': 'number', 'value': 200},8,24),\n",
       " LexToken(POLYLINE,'polyline',9,28),\n",
       " LexToken(POINTS,'points',9,37),\n",
       " LexToken(EQUAL,'=',9,43),\n",
       " LexToken(LBRACKET,'[',9,44),\n",
       " LexToken(LPAREN,'(',9,45),\n",
       " LexToken(NUMBER,{'type': 'number', 'value': 100},9,46),\n",
       " LexToken(COMMA,',',9,49),\n",
       " LexToken(NUMBER,{'type': 'number', 'value': 100},9,50),\n",
       " LexToken(RPAREN,')',9,53),\n",
       " LexToken(COMMA,',',9,54),\n",
       " LexToken(LPAREN,'(',9,55),\n",
       " LexToken(NUMBER,{'type': 'number', 'value': 150},9,56),\n",
       " LexToken(COMMA,',',9,59),\n",
       " LexToken(NUMBER,{'type': 'number', 'value': 150},9,60),\n",
       " LexToken(RPAREN,')',9,63),\n",
       " LexToken(COMMA,',',9,64),\n",
       " LexToken(LPAREN,'(',9,65),\n",
       " LexToken(NUMBER,{'type': 'number', 'value': 150},9,66),\n",
       " LexToken(COMMA,',',9,69),\n",
       " LexToken(NUMBER,{'type': 'number', 'value': 50},9,70),\n",
       " LexToken(RPAREN,')',9,72),\n",
       " LexToken(RBRACKET,']',9,73)]"
      ]
     },
     "execution_count": 4,
     "metadata": {},
     "output_type": "execute_result"
    }
   ],
   "source": [
    "lexer.apply(\"\"\"\n",
    "size height=200, width=200\n",
    "polyline points=[(100,100),(150,150),(150,50)]\n",
    "\"\"\")"
   ]
  },
  {
   "cell_type": "code",
   "execution_count": 5,
   "metadata": {
    "collapsed": false
   },
   "outputs": [
    {
     "data": {
      "text/plain": [
       "[LexToken(SIZE,'size',11,1),\n",
       " LexToken(HEIGHT,'height',11,6),\n",
       " LexToken(EQUAL,'=',11,12),\n",
       " LexToken(NUMBER,{'type': 'number', 'value': 200},11,13),\n",
       " LexToken(COMMA,',',11,16),\n",
       " LexToken(WIDTH,'width',11,18),\n",
       " LexToken(EQUAL,'=',11,23),\n",
       " LexToken(NUMBER,{'type': 'number', 'value': 200},11,24),\n",
       " LexToken(POLYGON,'polygon',12,28),\n",
       " LexToken(POINTS,'points',12,36),\n",
       " LexToken(EQUAL,'=',12,42),\n",
       " LexToken(LBRACKET,'[',12,43),\n",
       " LexToken(LPAREN,'(',12,44),\n",
       " LexToken(NUMBER,{'type': 'number', 'value': 100},12,45),\n",
       " LexToken(COMMA,',',12,48),\n",
       " LexToken(NUMBER,{'type': 'number', 'value': 100},12,49),\n",
       " LexToken(RPAREN,')',12,52),\n",
       " LexToken(COMMA,',',12,53),\n",
       " LexToken(LPAREN,'(',12,54),\n",
       " LexToken(NUMBER,{'type': 'number', 'value': 150},12,55),\n",
       " LexToken(COMMA,',',12,58),\n",
       " LexToken(NUMBER,{'type': 'number', 'value': 150},12,59),\n",
       " LexToken(RPAREN,')',12,62),\n",
       " LexToken(COMMA,',',12,63),\n",
       " LexToken(LPAREN,'(',12,64),\n",
       " LexToken(NUMBER,{'type': 'number', 'value': 150},12,65),\n",
       " LexToken(COMMA,',',12,68),\n",
       " LexToken(NUMBER,{'type': 'number', 'value': 50},12,69),\n",
       " LexToken(RPAREN,')',12,71),\n",
       " LexToken(RBRACKET,']',12,72)]"
      ]
     },
     "execution_count": 5,
     "metadata": {},
     "output_type": "execute_result"
    }
   ],
   "source": [
    "lexer.apply(\"\"\"\n",
    "size height=200, width=200\n",
    "polygon points=[(100,100),(150,150),(150,50)]\n",
    "\"\"\")"
   ]
  },
  {
   "cell_type": "code",
   "execution_count": 6,
   "metadata": {
    "collapsed": false
   },
   "outputs": [
    {
     "data": {
      "image/svg+xml": [
       "<svg baseProfile=\"full\" height=\"200\" version=\"1.1\" width=\"200\" xmlns=\"http://www.w3.org/2000/svg\" xmlns:ev=\"http://www.w3.org/2001/xml-events\" xmlns:xlink=\"http://www.w3.org/1999/xlink\"><defs/><line fill=\"red\" stroke=\"green\" stroke-width=\"5\" x1=\"1\" x2=\"100\" y1=\"1\" y2=\"150\"/></svg>"
      ],
      "text/plain": [
       "<IPython.core.display.SVG object>"
      ]
     },
     "execution_count": 6,
     "metadata": {},
     "output_type": "execute_result"
    }
   ],
   "source": [
    "import parser\n",
    "from IPython.display import SVG, display\n",
    "\n",
    "entrada = \"\"\" size height=200, width=200 line from=(1,1), to=(100,150), stroke=\"green\", fill=\"red\", stroke-width=5 \"\"\"\n",
    "r = parser.parse(entrada)\n",
    "s = parser.buildSVG(r)\n",
    "\n",
    "SVG(s)"
   ]
  },
  {
   "cell_type": "code",
   "execution_count": 7,
   "metadata": {
    "collapsed": false
   },
   "outputs": [
    {
     "data": {
      "image/svg+xml": [
       "<svg baseProfile=\"full\" height=\"200\" version=\"1.1\" width=\"200\" xmlns=\"http://www.w3.org/2000/svg\" xmlns:ev=\"http://www.w3.org/2001/xml-events\" xmlns:xlink=\"http://www.w3.org/1999/xlink\"><defs/><ellipse cx=\"100\" cy=\"100\" rx=\"25\" ry=\"50\" stroke-width=\"1\"/></svg>"
      ],
      "text/plain": [
       "<IPython.core.display.SVG object>"
      ]
     },
     "execution_count": 7,
     "metadata": {},
     "output_type": "execute_result"
    }
   ],
   "source": [
    "r = parser.parse(\"\"\"\n",
    "size height=200, width=200\n",
    "ellipse center=(100,100), rx=25, ry=50\n",
    "\"\"\")\n",
    "SVG(parser.buildSVG(r))"
   ]
  },
  {
   "cell_type": "code",
   "execution_count": 8,
   "metadata": {
    "collapsed": false
   },
   "outputs": [
    {
     "data": {
      "image/svg+xml": [
       "<svg baseProfile=\"full\" height=\"200\" version=\"1.1\" width=\"200\" xmlns=\"http://www.w3.org/2000/svg\" xmlns:ev=\"http://www.w3.org/2001/xml-events\" xmlns:xlink=\"http://www.w3.org/1999/xlink\"><defs/><circle cx=\"100\" cy=\"100\" r=\"50\" stroke-width=\"1\"/></svg>"
      ],
      "text/plain": [
       "<IPython.core.display.SVG object>"
      ]
     },
     "execution_count": 8,
     "metadata": {},
     "output_type": "execute_result"
    }
   ],
   "source": [
    "r = parser.parse(\"\"\"\n",
    "size height=200, width=200\n",
    "circle center=(100,100), radius=50\n",
    "\"\"\")\n",
    "SVG(parser.buildSVG(r))"
   ]
  },
  {
   "cell_type": "code",
   "execution_count": 9,
   "metadata": {
    "collapsed": false
   },
   "outputs": [
    {
     "data": {
      "image/svg+xml": [
       "<svg baseProfile=\"full\" height=\"200\" version=\"1.1\" width=\"200\" xmlns=\"http://www.w3.org/2000/svg\" xmlns:ev=\"http://www.w3.org/2001/xml-events\" xmlns:xlink=\"http://www.w3.org/1999/xlink\"><defs/><polyline fill=\"white\" points=\"100,100 150,150 80,10\" stroke=\"black\" stroke-width=\"1\"/></svg>"
      ],
      "text/plain": [
       "<IPython.core.display.SVG object>"
      ]
     },
     "execution_count": 9,
     "metadata": {},
     "output_type": "execute_result"
    }
   ],
   "source": [
    "# polyline no une el primer y ultimo punto.\n",
    "r = parser.parse(\"\"\"size height=200, width=200 \n",
    "polyline points=[(100,100),(150,150), (80,10)], stroke=\"black\", fill=\"white\" \"\"\")\n",
    "SVG(parser.buildSVG(r))"
   ]
  },
  {
   "cell_type": "code",
   "execution_count": 10,
   "metadata": {
    "collapsed": false
   },
   "outputs": [
    {
     "name": "stdout",
     "output_type": "stream",
     "text": [
      "[Size: width=200 height=200 optionals={}, Polygon: points=[(100, 100), (150, 150), (150, 50)] optional={'fill': 'white', 'stroke': 'black'}]\n"
     ]
    },
    {
     "data": {
      "image/svg+xml": [
       "<svg baseProfile=\"full\" height=\"200\" version=\"1.1\" width=\"200\" xmlns=\"http://www.w3.org/2000/svg\" xmlns:ev=\"http://www.w3.org/2001/xml-events\" xmlns:xlink=\"http://www.w3.org/1999/xlink\"><defs/><polygon fill=\"white\" points=\"100,100 150,150 150,50\" stroke=\"black\" stroke-width=\"1\"/></svg>"
      ],
      "text/plain": [
       "<IPython.core.display.SVG object>"
      ]
     },
     "execution_count": 10,
     "metadata": {},
     "output_type": "execute_result"
    }
   ],
   "source": [
    "r = parser.parse(\"\"\"\n",
    "size height=200, width=200\n",
    "polygon points=[(100,100),(150,150),(150,50)], stroke=\"black\", fill=\"white\"\n",
    "\"\"\")\n",
    "print(r)\n",
    "SVG(parser.buildSVG(r))"
   ]
  },
  {
   "cell_type": "code",
   "execution_count": null,
   "metadata": {
    "collapsed": false
   },
   "outputs": [],
   "source": []
  },
  {
   "cell_type": "code",
   "execution_count": 13,
   "metadata": {
    "collapsed": false
   },
   "outputs": [
    {
     "data": {
      "image/svg+xml": [
       "<svg baseProfile=\"full\" height=\"200\" version=\"1.1\" width=\"200\" xmlns=\"http://www.w3.org/2000/svg\" xmlns:ev=\"http://www.w3.org/2001/xml-events\" xmlns:xlink=\"http://www.w3.org/1999/xlink\"><defs/><line fill=\"red\" stroke=\"green\" stroke-width=\"5\" x1=\"1\" x2=\"100\" y1=\"1\" y2=\"150\"/><line fill=\"red\" stroke=\"green\" stroke-width=\"5\" x1=\"1\" x2=\"150\" y1=\"150\" y2=\"1\"/><text font-size=\"20\" stroke-width=\"1\" x=\"150\" y=\"180\">TP 1</text></svg>"
      ],
      "text/plain": [
       "<IPython.core.display.SVG object>"
      ]
     },
     "execution_count": 13,
     "metadata": {},
     "output_type": "execute_result"
    }
   ],
   "source": [
    "entrada = \"\"\" size height=200, width=200 \n",
    "line from=(1,1), to=(100,150), stroke=\"green\", fill=\"red\", stroke-width=5 \n",
    "line from=(1,150), to=(150,1), stroke=\"green\", fill=\"red\", stroke-width=5\n",
    "text t=\"TP 1\", at=(150, 180), font-size=\"20\" \"\"\"\n",
    "\n",
    "r = parser.parse(entrada)\n",
    "s = parser.buildSVG(r)\n",
    "\n",
    "SVG(s)"
   ]
  },
  {
   "cell_type": "code",
   "execution_count": 12,
   "metadata": {
    "collapsed": false
   },
   "outputs": [
    {
     "name": "stdout",
     "output_type": "stream",
     "text": [
      "<svg baseProfile=\"full\" height=\"300\" version=\"1.1\" width=\"300\" xmlns=\"http://www.w3.org/2000/svg\" xmlns:ev=\"http://www.w3.org/2001/xml-events\" xmlns:xlink=\"http://www.w3.org/1999/xlink\"><defs /><text font-size=\"14\" x=\"50\" y=\"50\">Testing</text></svg>\n"
     ]
    },
    {
     "data": {
      "image/svg+xml": [
       "<svg baseProfile=\"full\" height=\"300\" version=\"1.1\" width=\"300\" xmlns=\"http://www.w3.org/2000/svg\" xmlns:ev=\"http://www.w3.org/2001/xml-events\" xmlns:xlink=\"http://www.w3.org/1999/xlink\"><defs/><text font-size=\"14\" x=\"50\" y=\"50\">Testing</text></svg>"
      ],
      "text/plain": [
       "<IPython.core.display.SVG object>"
      ]
     },
     "execution_count": 12,
     "metadata": {},
     "output_type": "execute_result"
    }
   ],
   "source": [
    "from IPython.display import SVG, display\n",
    "import svgwrite\n",
    "\n",
    "dwg = svgwrite.Drawing('test.svg', size=(300,300)) # es nuestro lienzo para dibujar\n",
    "dwg.add(dwg.text(text=\"Testing\", insert=(50,50), font_family=None,font_size=\"14\"))\n",
    "print(dwg.tostring())\n",
    "SVG(dwg.tostring())"
   ]
  },
  {
   "cell_type": "code",
   "execution_count": null,
   "metadata": {
    "collapsed": true
   },
   "outputs": [],
   "source": []
  }
 ],
 "metadata": {
  "anaconda-cloud": {},
  "kernelspec": {
   "display_name": "Python [conda root]",
   "language": "python",
   "name": "conda-root-py"
  },
  "language_info": {
   "codemirror_mode": {
    "name": "ipython",
    "version": 3
   },
   "file_extension": ".py",
   "mimetype": "text/x-python",
   "name": "python",
   "nbconvert_exporter": "python",
   "pygments_lexer": "ipython3",
   "version": "3.5.2"
  }
 },
 "nbformat": 4,
 "nbformat_minor": 1
}
