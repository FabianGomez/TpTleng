
{
 "cells": [
  {
   "cell_type": "code",
   "execution_count": 1,
   "metadata": {
    "collapsed": false
   },
   "outputs": [
    {
     "data": {
      "text/plain": [
       "[LexToken(RECTANGLE,'rectangle',1,0),\n",
       " LexToken(ULEFT,'upper_left',1,10),\n",
       " LexToken(EQUAL,'=',1,20),\n",
       " LexToken(LPAREN,'(',1,21),\n",
       " LexToken(NUMBER,{'type': 'number', 'value': 0},1,22),\n",
       " LexToken(COMMA,',',1,23),\n",
       " LexToken(NUMBER,{'type': 'number', 'value': 0},1,24),\n",
       " LexToken(RPAREN,')',1,25),\n",
       " LexToken(COMMA,',',1,26),\n",
       " LexToken(SIZE,'size',1,28),\n",
       " LexToken(EQUAL,'=',1,32),\n",
       " LexToken(LPAREN,'(',1,33),\n",
       " LexToken(NUMBER,{'type': 'number', 'value': 50},1,34),\n",
       " LexToken(COMMA,',',1,36),\n",
       " LexToken(NUMBER,{'type': 'number', 'value': 50},1,37),\n",
       " LexToken(RPAREN,')',1,39)]"
      ]
     },
     "execution_count": 1,
     "metadata": {},
     "output_type": "execute_result"
    }
   ],
   "source": [
    "import lexer\n",
    "lexer.apply(\"rectangle upper_left=(0,0), size=(50,50)\")\n"
   ]
  },
  {
   "cell_type": "code",
   "execution_count": 2,
   "metadata": {
    "collapsed": false
   },
   "outputs": [
    {
     "data": {
      "text/plain": [
       "[LexToken(SIZE,'size',1,0),\n",
       " LexToken(HEIGHT,'height',1,5),\n",
       " LexToken(EQUAL,'=',1,11),\n",
       " LexToken(NUMBER,{'type': 'number', 'value': 200},1,12),\n",
       " LexToken(COMMA,',',1,15),\n",
       " LexToken(WIDTH,'width',1,17),\n",
       " LexToken(EQUAL,'=',1,22),\n",
       " LexToken(NUMBER,{'type': 'number', 'value': 200},1,23)]"
      ]
     },
     "execution_count": 2,
     "metadata": {},
     "output_type": "execute_result"
    }
   ],
   "source": [
    "lexer.apply(\"size height=200, width=200\")"
   ]
  },
  {
   "cell_type": "code",
   "execution_count": 3,
   "metadata": {
    "collapsed": false
   },
   "outputs": [
    {
     "data": {
      "text/plain": [
       "[LexToken(SIZE,'size',2,18),\n",
       " LexToken(HEIGHT,'height',2,23),\n",
       " LexToken(EQUAL,'=',2,29),\n",
       " LexToken(NUMBER,{'type': 'number', 'value': 200},2,30),\n",
       " LexToken(COMMA,',',2,33),\n",
       " LexToken(WIDTH,'width',2,35),\n",
       " LexToken(EQUAL,'=',2,40),\n",
       " LexToken(NUMBER,{'type': 'number', 'value': 200},2,41),\n",
       " LexToken(RECTANGLE,'rectangle',3,61),\n",
       " LexToken(ULEFT,'upper_left',3,71),\n",
       " LexToken(EQUAL,'=',3,81),\n",
       " LexToken(LPAREN,'(',3,82),\n",
       " LexToken(NUMBER,{'type': 'number', 'value': 0},3,83),\n",
       " LexToken(COMMA,',',3,84),\n",
       " LexToken(NUMBER,{'type': 'number', 'value': 0},3,85),\n",
       " LexToken(RPAREN,')',3,86),\n",
       " LexToken(COMMA,',',3,87),\n",
       " LexToken(SIZE,'size',3,89),\n",
       " LexToken(EQUAL,'=',3,93),\n",
       " LexToken(LPAREN,'(',3,94),\n",
       " LexToken(NUMBER,{'type': 'number', 'value': 50},3,95),\n",
       " LexToken(COMMA,',',3,97),\n",
       " LexToken(NUMBER,{'type': 'number', 'value': 50},3,98),\n",
       " LexToken(RPAREN,')',3,100)]"
      ]
     },
     "execution_count": 3,
     "metadata": {},
     "output_type": "execute_result"
    }
   ],
   "source": [
    "lexer.apply(\"\"\" \n",
    "                size height=200, width=200\n",
    "                rectangle upper_left=(0,0), size=(50,50)\n",
    "            \"\"\")"
   ]
  },
  {
   "cell_type": "code",
   "execution_count": 4,
   "metadata": {
    "collapsed": false
   },
   "outputs": [
    {
     "ename": "SyntaxError",
     "evalue": "Non-ASCII character '\\xc3' in file parser.py on line 231, but no encoding declared; see http://python.org/dev/peps/pep-0263/ for details (parser.py, line 231)",
     "output_type": "error",
     "traceback": [
      "\u001b[0;36m  File \u001b[0;32m\"parser.py\"\u001b[0;36m, line \u001b[0;32m231\u001b[0m\n\u001b[0;31m    # Si todo fue exitoso ls debería ser una lista de expresiones.\u001b[0m\n\u001b[0m                                                                  ^\u001b[0m\n\u001b[0;31mSyntaxError\u001b[0m\u001b[0;31m:\u001b[0m Non-ASCII character '\\xc3' in file parser.py on line 231, but no encoding declared; see http://python.org/dev/peps/pep-0263/ for details\n"
     ]
    }
   ],
   "source": [
    "import parser\n",
    "from IPython.display import SVG, display\n",
    "parser.parse(\"size height=200, width=200\")"
   ]
  },
  {
   "cell_type": "code",
   "execution_count": null,
   "metadata": {
    "collapsed": false,
    "scrolled": true
   },
   "outputs": [],
   "source": [
    "parser.parse(\"rectangle upper_left=(0,0), size=(50,50)\")"
   ]
  },
  {
   "cell_type": "code",
   "execution_count": null,
   "metadata": {
    "collapsed": false
   },
   "outputs": [],
   "source": [
    "r = parser.parse(\"\"\"size height=200, width=200 rectangle upper_left=(0,0), size=(200,200)\"\"\")\n",
    "SVG(parser.buildSVG(r))\n"
   ]
  },
  {
   "cell_type": "code",
   "execution_count": null,
   "metadata": {
    "collapsed": false
   },
   "outputs": [],
   "source": []
  },
  {
   "cell_type": "code",
   "execution_count": null,
   "metadata": {
    "collapsed": true
   },
   "outputs": [
    {
     "data": {
      "text/plain": [
       "[LexToken(SIZE,'size',2,0),\n",
       " LexToken(HEIGHT,'height',2,5),\n",
       " LexToken(EQUAL,'=',2,11),\n",
       " LexToken(NUMBER,{'value': 200, 'type': 'number'},2,12),\n",
       " LexToken(COMMA,',',2,15),\n",
       " LexToken(WIDTH,'width',2,17),\n",
       " LexToken(EQUAL,'=',2,22),\n",
       " LexToken(NUMBER,{'value': 200, 'type': 'number'},2,23),\n",
       " LexToken(LINE,'line',3,0),\n",
       " LexToken(FROM,'from',3,5),\n",
       " LexToken(EQUAL,'=',3,9),\n",
       " LexToken(LPAREN,'(',3,10),\n",
       " LexToken(NUMBER,{'value': 100, 'type': 'number'},3,11),\n",
       " LexToken(COMMA,',',3,14),\n",
       " LexToken(NUMBER,{'value': 50, 'type': 'number'},3,15),\n",
       " LexToken(RPAREN,')',3,17),\n",
       " LexToken(COMMA,',',3,18),\n",
       " LexToken(TO,'to',3,20),\n",
       " LexToken(EQUAL,'=',3,22),\n",
       " LexToken(LPAREN,'(',3,23),\n",
       " LexToken(NUMBER,{'value': 100, 'type': 'number'},3,24),\n",
       " LexToken(COMMA,',',3,27),\n",
       " LexToken(NUMBER,{'value': 150, 'type': 'number'},3,28),\n",
       " LexToken(RPAREN,')',3,31)]"
      ]
     },
     "execution_count": 3,
     "metadata": {

     },
     "output_type": "execute_result"
    }
   ],
   "source": [
    "lexer.apply(\"\"\" \n",
    "size height=200, width=200\n",
    "line from=(100,50), to=(100,150)\n",
    "\"\"\")"
   ]
  },
  {
   "cell_type": "code",
   "execution_count": null,
   "metadata": {
    "collapsed": true
   },
   "outputs": [
    {
     "data": {
      "text/plain": [
       "[LexToken(SIZE,'size',2,0),\n",
       " LexToken(HEIGHT,'height',2,5),\n",
       " LexToken(EQUAL,'=',2,11),\n",
       " LexToken(NUMBER,{'value': 200, 'type': 'number'},2,12),\n",
       " LexToken(COMMA,',',2,15),\n",
       " LexToken(WIDTH,'width',2,17),\n",
       " LexToken(EQUAL,'=',2,22),\n",
       " LexToken(NUMBER,{'value': 200, 'type': 'number'},2,23),\n",
       " LexToken(ELLIPSE,'ellipse',3,0),\n",
       " LexToken(CENTER,'center',3,8),\n",
       " LexToken(EQUAL,'=',3,14),\n",
       " LexToken(LPAREN,'(',3,15),\n",
       " LexToken(NUMBER,{'value': 100, 'type': 'number'},3,16),\n",
       " LexToken(COMMA,',',3,19),\n",
       " LexToken(NUMBER,{'value': 100, 'type': 'number'},3,20),\n",
       " LexToken(RPAREN,')',3,23),\n",
       " LexToken(COMMA,',',3,24),\n",
       " LexToken(RX,'rx',3,26),\n",
       " LexToken(EQUAL,'=',3,28),\n",
       " LexToken(NUMBER,{'value': 50, 'type': 'number'},3,29),\n",
       " LexToken(COMMA,',',3,31),\n",
       " LexToken(RY,'ry',3,33),\n",
       " LexToken(EQUAL,'=',3,35),\n",
       " LexToken(NUMBER,{'value': 50, 'type': 'number'},3,36)]"
      ]
     },
     "execution_count": 3,
     "metadata": {

     },
     "output_type": "execute_result"
    }
   ],
   "source": [
    "lexer.apply(\"\"\" \n",
    "size height=200, width=200\n",
    "ellipse center=(100,100), rx=50, ry=50\n",
    "            \"\"\")"
   ]
  },
  {
   "cell_type": "code",
   "execution_count": null,
   "metadata": {
    "collapsed": true
   },
   "outputs":  [
    {
     "data": {
      "text/plain": [
       "[LexToken(SIZE,'size',2,0),\n",
       " LexToken(HEIGHT,'height',2,5),\n",
       " LexToken(EQUAL,'=',2,11),\n",
       " LexToken(NUMBER,{'value': 200, 'type': 'number'},2,12),\n",
       " LexToken(COMMA,',',2,15),\n",
       " LexToken(WIDTH,'width',2,17),\n",
       " LexToken(EQUAL,'=',2,22),\n",
       " LexToken(NUMBER,{'value': 200, 'type': 'number'},2,23),\n",
       " LexToken(CIRCLE,'circle',3,0),\n",
       " LexToken(CENTER,'center',3,7),\n",
       " LexToken(EQUAL,'=',3,13),\n",
       " LexToken(LPAREN,'(',3,14),\n",
       " LexToken(NUMBER,{'value': 100, 'type': 'number'},3,15),\n",
       " LexToken(COMMA,',',3,18),\n",
       " LexToken(NUMBER,{'value': 100, 'type': 'number'},3,19),\n",
       " LexToken(RPAREN,')',3,22),\n",
       " LexToken(COMMA,',',3,23),\n",
       " LexToken(RADIUS,'radius',3,31),\n",
       " LexToken(EQUAL,'=',3,32),\n",
       " LexToken(NUMBER,{'value': 50, 'type': 'number'},3,33)]"
      ]
     },
     "execution_count": 3,
     "metadata": {

     },
     "output_type": "execute_result"
    }
   ],
   "source": [
    "lexer.apply(\"\"\" \n",
    "size height=200, width=200\n",
    "circle center=(100,100), radius=50\n",
    "            \"\"\")"
   ]
  }, 
  {
   "cell_type": "code",
   "execution_count": null,
   "metadata": {
    "collapsed": false
   },
   "outputs": [
   {
     "data": {
      "text/plain": [
       "[LexToken(SIZE,'size',2,0),\n",
       " LexToken(HEIGHT,'height',2,5),\n",
       " LexToken(EQUAL,'=',2,11),\n",
       " LexToken(NUMBER,{'value': 200, 'type': 'number'},2,12),\n",
       " LexToken(COMMA,',',2,15),\n",
       " LexToken(WIDTH,'width',2,17),\n",
       " LexToken(EQUAL,'=',2,22),\n",
       " LexToken(NUMBER,{'value': 200, 'type': 'number'},2,23),\n",
       " LexToken(POLYLINE,'polyline',3,0),\n",
       " LexToken(POINTS,'points',3,9),\n",
       " LexToken(EQUAL,'=',3,10),\n",
       " LexToken(LBRACKET,'[',3,11),\n",
       " LexToken(LPAREN,'(',3,12),\n",
       " LexToken(NUMBER,{'value': 100, 'type': 'number'},3,13),\n",
       " LexToken(COMMA,',',3,16),\n",
       " LexToken(NUMBER,{'value': 100, 'type': 'number'},3,17),\n",
       " LexToken(RPAREN,')',3,20),\n",
       " LexToken(COMMA,',',3,21),\n",
       " LexToken(LPAREN,'(',3,22),\n",
       " LexToken(NUMBER,{'value': 150, 'type': 'number'},3,23),\n",
       " LexToken(COMMA,',',3,26),\n",
       " LexToken(NUMBER,{'value': 150, 'type': 'number'},3,27),\n",
       " LexToken(RPAREN,')',3,30),\n",
       " LexToken(COMMA,',',3,31),\n",
       " LexToken(LPAREN,'(',3,32),\n",
       " LexToken(NUMBER,{'value': 150, 'type': 'number'},3,33),\n",
       " LexToken(COMMA,',',3,36),\n",
       " LexToken(NUMBER,{'value': 50, 'type': 'number'},3,37),\n",
       " LexToken(RPAREN,')',3,39),\n",
       " LexToken(RBRACKET,']',3,40)]"  
      ]
     },
     "execution_count": 3,
     "metadata": {

     },
     "output_type": "execute_result"
    }
    ],
   "source": [
   "lexer.apply(\"\"\" \n",
    "size height=200, width=200\n",
    "polyline points=[(100,100),(150,150),(150,50)]\n",
    "            \"\"\")"
    ]
  },
  {
   "cell_type": "code",
   "execution_count": null,
   "metadata": {
    "collapsed": false
   },
   "outputs": [
   {
     "data": {
      "text/plain": [
       "[LexToken(SIZE,'size',2,0),\n",
       " LexToken(HEIGHT,'height',2,5),\n",
       " LexToken(EQUAL,'=',2,11),\n",
       " LexToken(NUMBER,{'value': 200, 'type': 'number'},2,12),\n",
       " LexToken(COMMA,',',2,15),\n",
       " LexToken(WIDTH,'width',2,17),\n",
       " LexToken(EQUAL,'=',2,22),\n",
       " LexToken(NUMBER,{'value': 200, 'type': 'number'},2,23),\n",
       " LexToken(POLYGONE,'polygone',3,0),\n",
       " LexToken(POINTS,'points',3,9),\n",
       " LexToken(EQUAL,'=',3,10),\n",
       " LexToken(LBRACKET,'[',3,11),\n",
       " LexToken(LPAREN,'(',3,12),\n",
       " LexToken(NUMBER,{'value': 100, 'type': 'number'},3,13),\n",
       " LexToken(COMMA,',',3,16),\n",
       " LexToken(NUMBER,{'value': 100, 'type': 'number'},3,17),\n",
       " LexToken(RPAREN,')',3,20),\n",
       " LexToken(COMMA,',',3,21),\n",
       " LexToken(LPAREN,'(',3,22),\n",
       " LexToken(NUMBER,{'value': 150, 'type': 'number'},3,23),\n",
       " LexToken(COMMA,',',3,26),\n",
       " LexToken(NUMBER,{'value': 150, 'type': 'number'},3,27),\n",
       " LexToken(RPAREN,')',3,30),\n",
       " LexToken(COMMA,',',3,31),\n",
       " LexToken(LPAREN,'(',3,32),\n",
       " LexToken(NUMBER,{'value': 150, 'type': 'number'},3,33),\n",
       " LexToken(COMMA,',',3,36),\n",
       " LexToken(NUMBER,{'value': 50, 'type': 'number'},3,37),\n",
       " LexToken(RPAREN,')',3,39),\n",
       " LexToken(RBRACKET,']',3,40)]"  
      ]
     },
     "execution_count": 3,
     "metadata": {

     },
     "output_type": "execute_result"
    }
    ],
   "source": [
   "lexer.apply(\"\"\" \n",
    "size height=200, width=200\n",
    "polygone points=[(100,100),(150,150),(150,50)]\n",
    "            \"\"\")"
    ]
  }
 ],
 "metadata": {
  "anaconda-cloud": {},
  "kernelspec": {
   "display_name": "Python 2",
   "language": "python",
   "name": "python2"
  },
  "language_info": {
   "codemirror_mode": {
    "name": "ipython",
    "version": 2
   },
   "file_extension": ".py",
   "mimetype": "text/x-python",
   "name": "python",
   "nbconvert_exporter": "python",
   "pygments_lexer": "ipython2",
   "version": "2.7.12"
  }
 },
 "nbformat": 4,
 "nbformat_minor": 1
}
