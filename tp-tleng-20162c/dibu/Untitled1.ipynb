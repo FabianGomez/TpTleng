{
 "cells": [
  {
   "cell_type": "code",
   "execution_count": 1,
   "metadata": {
    "collapsed": false
   },
   "outputs": [
    {
     "data": {
      "text/plain": [
       "[LexToken(RECTANGLE,'rectangle',1,0),\n",
       " LexToken(ULEFT,'upper_left',1,10),\n",
       " LexToken(EQUAL,'=',1,20),\n",
       " LexToken(LPAREN,'(',1,21),\n",
       " LexToken(NUMBER,{'type': 'number', 'value': 0},1,22),\n",
       " LexToken(COMMA,',',1,23),\n",
       " LexToken(NUMBER,{'type': 'number', 'value': 0},1,24),\n",
       " LexToken(RPAREN,')',1,25),\n",
       " LexToken(COMMA,',',1,26),\n",
       " LexToken(SIZE,'size',1,28),\n",
       " LexToken(EQUAL,'=',1,32),\n",
       " LexToken(LPAREN,'(',1,33),\n",
       " LexToken(NUMBER,{'type': 'number', 'value': 50},1,34),\n",
       " LexToken(COMMA,',',1,36),\n",
       " LexToken(NUMBER,{'type': 'number', 'value': 50},1,37),\n",
       " LexToken(RPAREN,')',1,39)]"
      ]
     },
     "execution_count": 1,
     "metadata": {},
     "output_type": "execute_result"
    }
   ],
   "source": [
    "import lexer\n",
    "lexer.apply(\"rectangle upper_left=(0,0), size=(50,50)\")\n"
   ]
  },
  {
   "cell_type": "code",
   "execution_count": 2,
   "metadata": {
    "collapsed": false
   },
   "outputs": [
    {
     "data": {
      "text/plain": [
       "[LexToken(SIZE,'size',1,0),\n",
       " LexToken(HEIGHT,'height',1,5),\n",
       " LexToken(EQUAL,'=',1,11),\n",
       " LexToken(NUMBER,{'type': 'number', 'value': 200},1,12),\n",
       " LexToken(COMMA,',',1,15),\n",
       " LexToken(WIDTH,'width',1,17),\n",
       " LexToken(EQUAL,'=',1,22),\n",
       " LexToken(NUMBER,{'type': 'number', 'value': 200},1,23)]"
      ]
     },
     "execution_count": 2,
     "metadata": {},
     "output_type": "execute_result"
    }
   ],
   "source": [
    "lexer.apply(\"size height=200, width=200\")"
   ]
  },
  {
   "cell_type": "code",
   "execution_count": 3,
   "metadata": {
    "collapsed": false
   },
   "outputs": [
    {
     "data": {
      "text/plain": [
       "[LexToken(SIZE,'size',2,18),\n",
       " LexToken(HEIGHT,'height',2,23),\n",
       " LexToken(EQUAL,'=',2,29),\n",
       " LexToken(NUMBER,{'type': 'number', 'value': 200},2,30),\n",
       " LexToken(COMMA,',',2,33),\n",
       " LexToken(WIDTH,'width',2,35),\n",
       " LexToken(EQUAL,'=',2,40),\n",
       " LexToken(NUMBER,{'type': 'number', 'value': 200},2,41),\n",
       " LexToken(RECTANGLE,'rectangle',3,61),\n",
       " LexToken(ULEFT,'upper_left',3,71),\n",
       " LexToken(EQUAL,'=',3,81),\n",
       " LexToken(LPAREN,'(',3,82),\n",
       " LexToken(NUMBER,{'type': 'number', 'value': 0},3,83),\n",
       " LexToken(COMMA,',',3,84),\n",
       " LexToken(NUMBER,{'type': 'number', 'value': 0},3,85),\n",
       " LexToken(RPAREN,')',3,86),\n",
       " LexToken(COMMA,',',3,87),\n",
       " LexToken(SIZE,'size',3,89),\n",
       " LexToken(EQUAL,'=',3,93),\n",
       " LexToken(LPAREN,'(',3,94),\n",
       " LexToken(NUMBER,{'type': 'number', 'value': 50},3,95),\n",
       " LexToken(COMMA,',',3,97),\n",
       " LexToken(NUMBER,{'type': 'number', 'value': 50},3,98),\n",
       " LexToken(RPAREN,')',3,100)]"
      ]
     },
     "execution_count": 3,
     "metadata": {},
     "output_type": "execute_result"
    }
   ],
   "source": [
    "lexer.apply(\"\"\" \n",
    "                size height=200, width=200\n",
    "                rectangle upper_left=(0,0), size=(50,50)\n",
    "            \"\"\")"
   ]
  },
  {
   "cell_type": "code",
   "execution_count": 4,
   "metadata": {
    "collapsed": false
   },
   "outputs": [
    {
     "ename": "SyntaxError",
     "evalue": "Non-ASCII character '\\xc3' in file parser.py on line 231, but no encoding declared; see http://python.org/dev/peps/pep-0263/ for details (parser.py, line 231)",
     "output_type": "error",
     "traceback": [
      "\u001b[0;36m  File \u001b[0;32m\"parser.py\"\u001b[0;36m, line \u001b[0;32m231\u001b[0m\n\u001b[0;31m    # Si todo fue exitoso ls debería ser una lista de expresiones.\u001b[0m\n\u001b[0m                                                                  ^\u001b[0m\n\u001b[0;31mSyntaxError\u001b[0m\u001b[0;31m:\u001b[0m Non-ASCII character '\\xc3' in file parser.py on line 231, but no encoding declared; see http://python.org/dev/peps/pep-0263/ for details\n"
     ]
    }
   ],
   "source": [
    "import parser\n",
    "from IPython.display import SVG, display\n",
    "parser.parse(\"size height=200, width=200\")"
   ]
  },
  {
   "cell_type": "code",
   "execution_count": null,
   "metadata": {
    "collapsed": false,
    "scrolled": true
   },
   "outputs": [],
   "source": [
    "parser.parse(\"rectangle upper_left=(0,0), size=(50,50)\")"
   ]
  },
  {
   "cell_type": "code",
   "execution_count": null,
   "metadata": {
    "collapsed": false
   },
   "outputs": [],
   "source": [
    "r = parser.parse(\"\"\"size height=200, width=200 rectangle upper_left=(0,0), size=(200,200)\"\"\")\n",
    "SVG(parser.buildSVG(r))\n"
   ]
  },
  {
   "cell_type": "code",
   "execution_count": null,
   "metadata": {
    "collapsed": false
   },
   "outputs": [],
   "source": []
  },
  {
   "cell_type": "code",
   "execution_count": null,
   "metadata": {
    "collapsed": true
   },
   "outputs": [],
   "source": []
  },
  {
   "cell_type": "code",
   "execution_count": null,
   "metadata": {
    "collapsed": true
   },
   "outputs": [],
   "source": []
  }
 ],
 "metadata": {
  "anaconda-cloud": {},
  "kernelspec": {
   "display_name": "Python 2",
   "language": "python",
   "name": "python2"
  },
  "language_info": {
   "codemirror_mode": {
    "name": "ipython",
    "version": 2
   },
   "file_extension": ".py",
   "mimetype": "text/x-python",
   "name": "python",
   "nbconvert_exporter": "python",
   "pygments_lexer": "ipython2",
   "version": "2.7.12"
  }
 },
 "nbformat": 4,
 "nbformat_minor": 1
}
