{
 "cells": [
  {
   "cell_type": "code",
   "execution_count": 1,
   "metadata": {
    "collapsed": false
   },
   "outputs": [
    {
     "data": {
      "text/plain": [
       "[LexToken(RECTANGLE,'rectangle',1,0),\n",
       " LexToken(WIDTH,'width',1,10),\n",
       " LexToken(EQUAL,'=',1,15),\n",
       " LexToken(NUMBER,{'value': 0.25, 'type': 'number'},1,16)]"
      ]
     },
     "execution_count": 1,
     "metadata": {},
     "output_type": "execute_result"
    }
   ],
   "source": [
    "import lexer\n",
    "lexer.apply(\"rectangle width=0.25\")\n"
   ]
  },
  {
   "cell_type": "code",
   "execution_count": 2,
   "metadata": {
    "collapsed": false
   },
   "outputs": [
    {
     "data": {
      "text/plain": [
       "[LexToken(SIZE,'size',1,0),\n",
       " LexToken(HEIGHT,'height',1,5),\n",
       " LexToken(EQUAL,'=',1,11),\n",
       " LexToken(NUMBER,{'value': 200, 'type': 'number'},1,12),\n",
       " LexToken(COMMA,',',1,15),\n",
       " LexToken(WIDTH,'width',1,17),\n",
       " LexToken(EQUAL,'=',1,22),\n",
       " LexToken(NUMBER,{'value': 200, 'type': 'number'},1,23),\n",
       " LexToken(RECTANGLE,'rectangle',2,29),\n",
       " LexToken(ULEFT,'upper_left',2,39),\n",
       " LexToken(EQUAL,'=',2,49),\n",
       " LexToken(LPAREN,'(',2,50),\n",
       " LexToken(NUMBER,{'value': 0, 'type': 'number'},2,51),\n",
       " LexToken(COMMA,',',2,52),\n",
       " LexToken(NUMBER,{'value': 0, 'type': 'number'},2,53),\n",
       " LexToken(RPAREN,')',2,54),\n",
       " LexToken(COMMA,',',2,55),\n",
       " LexToken(SIZE,'size',2,57),\n",
       " LexToken(EQUAL,'=',2,61),\n",
       " LexToken(LPAREN,'(',2,62),\n",
       " LexToken(NUMBER,{'value': 50, 'type': 'number'},2,63),\n",
       " LexToken(COMMA,',',2,65),\n",
       " LexToken(NUMBER,{'value': 50, 'type': 'number'},2,66),\n",
       " LexToken(RPAREN,')',2,68)]"
      ]
     },
     "execution_count": 2,
     "metadata": {},
     "output_type": "execute_result"
    }
   ],
   "source": [
    "lexer.apply(\"size height=200, width=200 \\n rectangle upper_left=(0,0), size=(50,50)\")"
   ]
  },
  {
   "cell_type": "code",
   "execution_count": 3,
   "metadata": {
    "collapsed": false
   },
   "outputs": [
    {
     "data": {
      "text/plain": [
       "[Size: width=200 height=200 optionals={}]"
      ]
     },
     "execution_count": 3,
     "metadata": {},
     "output_type": "execute_result"
    }
   ],
   "source": [
    "import parser\n",
    "parser.parse(\"size height=200, width=200\")"
   ]
  },
  {
   "cell_type": "code",
   "execution_count": 4,
   "metadata": {
    "collapsed": false,
    "scrolled": true
   },
   "outputs": [
    {
     "name": "stdout",
     "output_type": "stream",
     "text": [
      "UPER (0, 0)\n"
     ]
    },
    {
     "data": {
      "text/plain": [
       "[Rectangle: size=(50, 50) upper_left=(0, 0) optional={}]"
      ]
     },
     "execution_count": 4,
     "metadata": {},
     "output_type": "execute_result"
    }
   ],
   "source": [
    "parser.parse(\"rectangle upper_left=(0,0), size=(50,50)\")"
   ]
  },
  {
   "cell_type": "code",
   "execution_count": null,
   "metadata": {
    "collapsed": true
   },
   "outputs": [],
   "source": []
  },
  {
   "cell_type": "code",
   "execution_count": null,
   "metadata": {
    "collapsed": true
   },
   "outputs": [],
   "source": []
  },
  {
   "cell_type": "code",
   "execution_count": null,
   "metadata": {
    "collapsed": true
   },
   "outputs": [],
   "source": []
  },
  {
   "cell_type": "code",
   "execution_count": null,
   "metadata": {
    "collapsed": true
   },
   "outputs": [],
   "source": []
  }
 ],
 "metadata": {
  "anaconda-cloud": {},
  "kernelspec": {
   "display_name": "Python [conda root]",
   "language": "python",
   "name": "conda-root-py"
  },
  "language_info": {
   "codemirror_mode": {
    "name": "ipython",
    "version": 3
   },
   "file_extension": ".py",
   "mimetype": "text/x-python",
   "name": "python",
   "nbconvert_exporter": "python",
   "pygments_lexer": "ipython3",
   "version": "3.5.2"
  }
 },
 "nbformat": 4,
 "nbformat_minor": 1
}
